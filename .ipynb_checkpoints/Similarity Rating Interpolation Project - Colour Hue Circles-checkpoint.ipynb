{
 "cells": [
  {
   "cell_type": "markdown",
   "metadata": {},
   "source": [
    "## Similiarity Rating Interpolation Project"
   ]
  },
  {
   "cell_type": "markdown",
   "metadata": {},
   "source": [
    "_Written by Ariel Zeleznikow-Johnston  \n",
    "ariel.zeleznikow-johnston@monash.edu  \n",
    "Last updated 11-Nov-2020_"
   ]
  },
  {
   "cell_type": "markdown",
   "metadata": {},
   "source": [
    "This project is an attempt to simulate similarity rating interpolations from incomplete data. The aim of this part of the project is to see if a colour hue circle in phenomenological space can be ascertained from incomplete comparisons of samples within that space, given different similarity rating generation metrics"
   ]
  },
  {
   "cell_type": "code",
   "execution_count": 93,
   "metadata": {},
   "outputs": [],
   "source": [
    "# libraries\n",
    "library(MASS) # for MDS\n",
    "library(ggplot2) # for plotting\n",
    "library(RColorBrewer) # for colour scales in plots\n",
    "library(gridExtra) # for merging plots\n",
    "library(grid) # for merging plots\n",
    "library(ggplotify) # for merging plots\n",
    "library(reshape2)# for messing with data"
   ]
  },
  {
   "cell_type": "code",
   "execution_count": 196,
   "metadata": {},
   "outputs": [],
   "source": [
    "# Define some constants\n",
    "n.dim = 2\n",
    "radius = 1\n",
    "#dr.max = 1\n",
    "dr.min = 0\n",
    "exp.const = 2\n",
    "n.qualia=5"
   ]
  },
  {
   "cell_type": "markdown",
   "metadata": {},
   "source": [
    "### The phenomenological space"
   ]
  },
  {
   "cell_type": "markdown",
   "metadata": {},
   "source": [
    "First, we need to define the space from which we're going to try and obtain similarity ratings. For current purposes, we're going to define an isoluminant maximally-saturated hue circle as a unit circle in a metric space of R<sup>2</sup>"
   ]
  },
  {
   "cell_type": "code",
   "execution_count": 197,
   "metadata": {},
   "outputs": [],
   "source": [
    "# Polar to cartesian \n",
    "pol2cart <- function(radius,angle){\n",
    "    x <- radius*cos(angle)\n",
    "    y <- radius*sin(angle)\n",
    "    return(c(x,y))\n",
    "}"
   ]
  },
  {
   "cell_type": "code",
   "execution_count": 198,
   "metadata": {},
   "outputs": [],
   "source": [
    "# Get samples from the hue circle\n",
    "sample.hue.circle <- function(n.samples, distribution='uniform',offset=0, format='cartesian'){\n",
    "    output <- matrix(, nrow = n.samples, ncol = n.dim) # initialise the output matrix\n",
    "    \n",
    "    # obtain the samples\n",
    "    interval.angle <- 2*pi/n.samples\n",
    "    for(i in (1:n.samples)){\n",
    "        theta <- i*interval.angle + offset*interval.angle\n",
    "        if(format == 'cartesian'){\n",
    "            output[i,1:2] <- pol2cart(radius,theta)\n",
    "        } else if (format == 'polar'){\n",
    "            output[i,1:2] <- c(radius,theta)\n",
    "        }\n",
    "    }\n",
    "    return(output)\n",
    "}"
   ]
  },
  {
   "cell_type": "code",
   "execution_count": 199,
   "metadata": {},
   "outputs": [],
   "source": [
    "# colour the plot appropriately\n",
    "colors <- function(Q1,Q2){\n",
    "    \n",
    "    n.Q1 <- nrow(Q1)\n",
    "    n.Q2 <- nrow(Q2)\n",
    "    \n",
    "    #colors.Q1 <- brewer.pal(n.Q1,'Greens')\n",
    "    colors.Q1 <- rep('#FFFFB3',n.Q1)\n",
    "    #colors.Q2 <- brewer.pal(n.Q2,'PuRd')\n",
    "    colors.Q2 <- rep('\"#BEBADA',n.Q2)\n",
    "    \n",
    "    return(c(colors.Q1,colors.Q2))\n",
    "}"
   ]
  },
  {
   "cell_type": "code",
   "execution_count": 200,
   "metadata": {},
   "outputs": [],
   "source": [
    "# label the plot points appropriately\n",
    "labels <- function(Q1,Q2){\n",
    "    n.Q1 <- nrow(Q1)\n",
    "    n.Q2 <- nrow(Q2)\n",
    "    \n",
    "    i.Q1 <- c(1:n.Q1)\n",
    "    labels.Q1 <- paste('QA',i.Q1,sep='_')\n",
    "    i.Q2 <- c(1:n.Q2)\n",
    "    labels.Q2 <- paste('QB',i.Q2,sep='_')\n",
    "    \n",
    "    return(c(labels.Q1,labels.Q2))\n",
    "}"
   ]
  },
  {
   "cell_type": "code",
   "execution_count": 201,
   "metadata": {},
   "outputs": [],
   "source": [
    "# plot sampled hue circles\n",
    "sample.plot <- function(Q1,Q2){\n",
    "    \n",
    "    colors <- colors(Q1,Q2)\n",
    "    points <- rbind(Q1,Q2)\n",
    "    colnames(points) <- c('V1','V2')\n",
    "    points <- data.frame(points)\n",
    "    points$labels <- labels(Q1,Q2)\n",
    "    \n",
    "    plot <-     ggplot(points, aes(x = V1, y = V2, color=colors)) + geom_point(size =10) + \n",
    "                geom_text(aes(label=labels, vjust=-2)) +\n",
    "                xlab(\"Dimension 1\") + ylab(\"Dimension 2\") + \n",
    "                ggtitle('Phenomenological Space') + theme(legend.position='none')\n",
    "    return(plot)\n",
    "}"
   ]
  },
  {
   "cell_type": "markdown",
   "metadata": {},
   "source": [
    "Let's obtain some samples"
   ]
  },
  {
   "cell_type": "code",
   "execution_count": 202,
   "metadata": {},
   "outputs": [],
   "source": [
    "Q1 <- sample.hue.circle(n.samples=n.qualia)\n",
    "Q2 <- sample.hue.circle(n.samples=n.qualia, offset=0.5)"
   ]
  },
  {
   "cell_type": "code",
   "execution_count": 203,
   "metadata": {},
   "outputs": [
    {
     "data": {
      "image/png": "[encoded data removed]",
      "text/plain": [
       "plot without title"
      ]
     },
     "metadata": {},
     "output_type": "display_data"
    }
   ],
   "source": [
    "qspace.plot <- sample.plot(Q1,Q2)\n",
    "qspace.plot"
   ]
  },
  {
   "cell_type": "markdown",
   "metadata": {},
   "source": [
    "### Generating similarity ratings"
   ]
  },
  {
   "cell_type": "markdown",
   "metadata": {},
   "source": [
    "Next, we need to calculate the similarity ratings based on the samples obtained and some metric that can provide dissimilarities based on two points in the phenomenological space. We can use various different distance functions to do this. We can also add noise to the similarity ratings at this time if we wish, to simulate noisy data from subjects under real-world conditions"
   ]
  },
  {
   "cell_type": "code",
   "execution_count": 204,
   "metadata": {},
   "outputs": [],
   "source": [
    "# Different distance functions\n",
    "d.euclidean <- function(a,b){\n",
    "    d <- sqrt( (a[1]-b[1])**2 + (a[2]-b[2])**2 )\n",
    "    return(d)\n",
    "}\n",
    "\n",
    "d.shepard <- function(a,b){\n",
    "    d.eu <- d.euclidean(a,b)\n",
    "    d.shepard <- exp.const**d.eu-1\n",
    "    return(d.shepard)\n",
    "}"
   ]
  },
  {
   "cell_type": "code",
   "execution_count": 205,
   "metadata": {},
   "outputs": [],
   "source": [
    "# Add some noise to the similarity ratings\n",
    "noise <-function(var,dr.max,type='gaussian'){\n",
    "    if(type=='gaussian'){\n",
    "        error <- rnorm(1,mean=0,sd=var) * dr.max\n",
    "    }\n",
    "    return(error)\n",
    "}"
   ]
  },
  {
   "cell_type": "code",
   "execution_count": 206,
   "metadata": {},
   "outputs": [],
   "source": [
    "# Obtain dissimilarity ratings given some metric and two qualia sets in phenomenological space\n",
    "dr <- function(n.samples,Q1,Q2,metric='d.shepard',var=0){\n",
    "    \n",
    "    method <- match.fun(metric) # select the metric of choice\n",
    "    mat <- matrix(,nrow=n.samples*2,ncol=n.samples*2)  # initialise a matrix\n",
    "    dr.max <- method(c(-1,-1),c(1,1)) # Find the maximum possible dissimilarity rating\n",
    "    \n",
    "    # populate the Q1 x Q2 matrix\n",
    "    for(i in (1:n.samples)){\n",
    "        q1 <- Q1[i,1:2]\n",
    "        for(j in (1:n.samples)){\n",
    "            q2 <- Q2[j,1:2]\n",
    "            mat[i,j+n.samples] <- (method(q1,q2) + noise(var,dr.max=dr.max))/dr.max # not sure this is calculated correctly\n",
    "        }\n",
    "    }\n",
    "    # transpose the results to make the bottom right comparisons\n",
    "    mat[(n.samples+1):(n.samples*2), 1:n.samples] <- t(mat[1:n.samples,(n.samples+1):(n.samples*2)])\n",
    "    \n",
    "    \n",
    "    return(mat)\n",
    "}"
   ]
  },
  {
   "cell_type": "markdown",
   "metadata": {},
   "source": [
    "Let's obtain the similarity ratings from the samples, comparing each quale in Q1 to each quale in Q2 (but not _Q1 to Q1_ or _Q2 to Q2_ )"
   ]
  },
  {
   "cell_type": "code",
   "execution_count": 207,
   "metadata": {},
   "outputs": [],
   "source": [
    "dr.matrix <- dr(n.samples=n.qualia,Q2,Q1,metric=d.shepard,var=0.25)"
   ]
  },
  {
   "cell_type": "code",
   "execution_count": 208,
   "metadata": {},
   "outputs": [
    {
     "data": {
      "text/html": [
       "<table>\n",
       "<tbody>\n",
       "\t<tr><td>         NA</td><td>       NA  </td><td>         NA</td><td>         NA</td><td>        NA </td><td>0.14003833 </td><td>0.5394109  </td><td>0.5581299  </td><td> 0.78479388</td><td>-0.01411933</td></tr>\n",
       "\t<tr><td>         NA</td><td>       NA  </td><td>         NA</td><td>         NA</td><td>        NA </td><td>0.47648338 </td><td>0.1613609  </td><td>0.3568838  </td><td> 0.71759845</td><td> 0.73862853</td></tr>\n",
       "\t<tr><td>         NA</td><td>       NA  </td><td>         NA</td><td>         NA</td><td>        NA </td><td>0.69263112 </td><td>0.3321136  </td><td>0.1246101  </td><td>-0.00781735</td><td> 0.42239897</td></tr>\n",
       "\t<tr><td>         NA</td><td>       NA  </td><td>         NA</td><td>         NA</td><td>        NA </td><td>0.08311925 </td><td>0.6953835  </td><td>0.7589692  </td><td> 0.52172548</td><td>-0.12293034</td></tr>\n",
       "\t<tr><td>         NA</td><td>       NA  </td><td>         NA</td><td>         NA</td><td>        NA </td><td>0.09046656 </td><td>0.2562324  </td><td>0.5641543  </td><td> 0.35326053</td><td> 0.01522198</td></tr>\n",
       "\t<tr><td> 0.14003833</td><td>0.4764834  </td><td> 0.69263112</td><td> 0.08311925</td><td>0.09046656 </td><td>        NA </td><td>       NA  </td><td>       NA  </td><td>         NA</td><td>         NA</td></tr>\n",
       "\t<tr><td> 0.53941088</td><td>0.1613609  </td><td> 0.33211358</td><td> 0.69538347</td><td>0.25623245 </td><td>        NA </td><td>       NA  </td><td>       NA  </td><td>         NA</td><td>         NA</td></tr>\n",
       "\t<tr><td> 0.55812987</td><td>0.3568838  </td><td> 0.12461013</td><td> 0.75896921</td><td>0.56415433 </td><td>        NA </td><td>       NA  </td><td>       NA  </td><td>         NA</td><td>         NA</td></tr>\n",
       "\t<tr><td> 0.78479388</td><td>0.7175985  </td><td>-0.00781735</td><td> 0.52172548</td><td>0.35326053 </td><td>        NA </td><td>       NA  </td><td>       NA  </td><td>         NA</td><td>         NA</td></tr>\n",
       "\t<tr><td>-0.01411933</td><td>0.7386285  </td><td> 0.42239897</td><td>-0.12293034</td><td>0.01522198 </td><td>        NA </td><td>       NA  </td><td>       NA  </td><td>         NA</td><td>         NA</td></tr>\n",
       "</tbody>\n",
       "</table>\n"
      ],
      "text/latex": [
       "\\begin{tabular}{llllllllll}\n",
       "\t          NA &        NA   &          NA &          NA &         NA  & 0.14003833  & 0.5394109   & 0.5581299   &  0.78479388 & -0.01411933\\\\\n",
       "\t          NA &        NA   &          NA &          NA &         NA  & 0.47648338  & 0.1613609   & 0.3568838   &  0.71759845 &  0.73862853\\\\\n",
       "\t          NA &        NA   &          NA &          NA &         NA  & 0.69263112  & 0.3321136   & 0.1246101   & -0.00781735 &  0.42239897\\\\\n",
       "\t          NA &        NA   &          NA &          NA &         NA  & 0.08311925  & 0.6953835   & 0.7589692   &  0.52172548 & -0.12293034\\\\\n",
       "\t          NA &        NA   &          NA &          NA &         NA  & 0.09046656  & 0.2562324   & 0.5641543   &  0.35326053 &  0.01522198\\\\\n",
       "\t  0.14003833 & 0.4764834   &  0.69263112 &  0.08311925 & 0.09046656  &         NA  &        NA   &        NA   &          NA &          NA\\\\\n",
       "\t  0.53941088 & 0.1613609   &  0.33211358 &  0.69538347 & 0.25623245  &         NA  &        NA   &        NA   &          NA &          NA\\\\\n",
       "\t  0.55812987 & 0.3568838   &  0.12461013 &  0.75896921 & 0.56415433  &         NA  &        NA   &        NA   &          NA &          NA\\\\\n",
       "\t  0.78479388 & 0.7175985   & -0.00781735 &  0.52172548 & 0.35326053  &         NA  &        NA   &        NA   &          NA &          NA\\\\\n",
       "\t -0.01411933 & 0.7386285   &  0.42239897 & -0.12293034 & 0.01522198  &         NA  &        NA   &        NA   &          NA &          NA\\\\\n",
       "\\end{tabular}\n"
      ],
      "text/markdown": [
       "\n",
       "|          NA |        NA   |          NA |          NA |         NA  | 0.14003833  | 0.5394109   | 0.5581299   |  0.78479388 | -0.01411933 |\n",
       "|          NA |        NA   |          NA |          NA |         NA  | 0.47648338  | 0.1613609   | 0.3568838   |  0.71759845 |  0.73862853 |\n",
       "|          NA |        NA   |          NA |          NA |         NA  | 0.69263112  | 0.3321136   | 0.1246101   | -0.00781735 |  0.42239897 |\n",
       "|          NA |        NA   |          NA |          NA |         NA  | 0.08311925  | 0.6953835   | 0.7589692   |  0.52172548 | -0.12293034 |\n",
       "|          NA |        NA   |          NA |          NA |         NA  | 0.09046656  | 0.2562324   | 0.5641543   |  0.35326053 |  0.01522198 |\n",
       "|  0.14003833 | 0.4764834   |  0.69263112 |  0.08311925 | 0.09046656  |         NA  |        NA   |        NA   |          NA |          NA |\n",
       "|  0.53941088 | 0.1613609   |  0.33211358 |  0.69538347 | 0.25623245  |         NA  |        NA   |        NA   |          NA |          NA |\n",
       "|  0.55812987 | 0.3568838   |  0.12461013 |  0.75896921 | 0.56415433  |         NA  |        NA   |        NA   |          NA |          NA |\n",
       "|  0.78479388 | 0.7175985   | -0.00781735 |  0.52172548 | 0.35326053  |         NA  |        NA   |        NA   |          NA |          NA |\n",
       "| -0.01411933 | 0.7386285   |  0.42239897 | -0.12293034 | 0.01522198  |         NA  |        NA   |        NA   |          NA |          NA |\n",
       "\n"
      ],
      "text/plain": [
       "      [,1]        [,2]      [,3]        [,4]        [,5]       [,6]      \n",
       " [1,]          NA        NA          NA          NA         NA 0.14003833\n",
       " [2,]          NA        NA          NA          NA         NA 0.47648338\n",
       " [3,]          NA        NA          NA          NA         NA 0.69263112\n",
       " [4,]          NA        NA          NA          NA         NA 0.08311925\n",
       " [5,]          NA        NA          NA          NA         NA 0.09046656\n",
       " [6,]  0.14003833 0.4764834  0.69263112  0.08311925 0.09046656         NA\n",
       " [7,]  0.53941088 0.1613609  0.33211358  0.69538347 0.25623245         NA\n",
       " [8,]  0.55812987 0.3568838  0.12461013  0.75896921 0.56415433         NA\n",
       " [9,]  0.78479388 0.7175985 -0.00781735  0.52172548 0.35326053         NA\n",
       "[10,] -0.01411933 0.7386285  0.42239897 -0.12293034 0.01522198         NA\n",
       "      [,7]      [,8]      [,9]        [,10]      \n",
       " [1,] 0.5394109 0.5581299  0.78479388 -0.01411933\n",
       " [2,] 0.1613609 0.3568838  0.71759845  0.73862853\n",
       " [3,] 0.3321136 0.1246101 -0.00781735  0.42239897\n",
       " [4,] 0.6953835 0.7589692  0.52172548 -0.12293034\n",
       " [5,] 0.2562324 0.5641543  0.35326053  0.01522198\n",
       " [6,]        NA        NA          NA          NA\n",
       " [7,]        NA        NA          NA          NA\n",
       " [8,]        NA        NA          NA          NA\n",
       " [9,]        NA        NA          NA          NA\n",
       "[10,]        NA        NA          NA          NA"
      ]
     },
     "metadata": {},
     "output_type": "display_data"
    }
   ],
   "source": [
    "dr.matrix"
   ]
  },
  {
   "cell_type": "markdown",
   "metadata": {},
   "source": [
    "### Interpolate the missing data"
   ]
  },
  {
   "cell_type": "markdown",
   "metadata": {},
   "source": [
    "So far the full dissimilarity matrix is incomplete, as we have only got Q1 to Q2 comparisons, but no (Q1 to Q1) nor (Q2 to Q2). To interpolate these, we're going to try a method Nao suggested based on the correlations between the experiences.  \n",
    "  \n",
    "Specifically, we're going to assume that the dissimilarity between Q1<sub>i</sub> and Q1<sub>j</sub> is defined as the correlation of the vector comprising all the comparisons between Q1<sub>i</sub> and Q2 to the vector comprising all the comparisons between Q1<sub>j</sub> and Q2.   \n",
    "\n",
    "If the data is incomplete, we'll just use the data that we can use and hope for the best."
   ]
  },
  {
   "cell_type": "code",
   "execution_count": 209,
   "metadata": {},
   "outputs": [],
   "source": [
    "# Formula for converting correlation to dissimilarity value\n",
    "cor2dr <- function(correlation){\n",
    "    return(-(correlation-1)/2)\n",
    "}"
   ]
  },
  {
   "cell_type": "code",
   "execution_count": 210,
   "metadata": {},
   "outputs": [],
   "source": [
    "# Obtain which indices are not NA for both of two vectors\n",
    "check.na <- function(v1,v2){\n",
    "    input <- data.frame(v1,v2)\n",
    "    input$output <- (!(is.na(v1)) & !(is.na(v2)))\n",
    "    return(input$output)\n",
    "}"
   ]
  },
  {
   "cell_type": "code",
   "execution_count": 211,
   "metadata": {},
   "outputs": [],
   "source": [
    "# Interpolate a dissimilarity value based on the correlation between two vectors\n",
    "interpolate <- function(v1,v2,method=method){\n",
    "    input <- data.frame(v1,v2,check.na(v1,v2))\n",
    "    clean <- subset(input, check.na.v1..v2. == TRUE)\n",
    "    correlation <- cor(clean$v1,clean$v2,method=method)\n",
    "    return(cor2dr(correlation))\n",
    "}"
   ]
  },
  {
   "cell_type": "code",
   "execution_count": 212,
   "metadata": {},
   "outputs": [],
   "source": [
    "# Produce a new matrix with interpolated data. Choose the correlation function of choice\n",
    "interpolate.matrix <- function(matrix,method='spearman'){\n",
    "    output <- matrix(,nrow(matrix),ncol(matrix))\n",
    "    \n",
    "    for(i in (1:nrow(matrix))){\n",
    "        for(j in (1:ncol(matrix))){\n",
    "            if(is.na(matrix[i,j])){\n",
    "                v1 <- as.vector(matrix[i,1:nrow(matrix)])\n",
    "                v2 <- as.vector(matrix[j,1:nrow(matrix)])\n",
    "                output[i,j] <- interpolate(v1,v2,method)\n",
    "            } else {\n",
    "                output[i,j] <- matrix[i,j]\n",
    "            }\n",
    "        }\n",
    "    }\n",
    "    return(output)\n",
    "}"
   ]
  },
  {
   "cell_type": "code",
   "execution_count": 213,
   "metadata": {},
   "outputs": [],
   "source": [
    "dr.interpolated <- interpolate.matrix(dr.matrix,method='pearson')"
   ]
  },
  {
   "cell_type": "code",
   "execution_count": 214,
   "metadata": {},
   "outputs": [
    {
     "data": {
      "text/html": [
       "<table>\n",
       "<tbody>\n",
       "\t<tr><td> 5.551115e-17</td><td>0.6224471    </td><td> 0.91287110  </td><td> 0.06535011  </td><td>1.000484e-01 </td><td>1.400383e-01 </td><td>0.5394109    </td><td>0.5581299    </td><td> 0.78479388  </td><td>-0.01411933  </td></tr>\n",
       "\t<tr><td> 6.224471e-01</td><td>0.0000000    </td><td> 0.56049226  </td><td> 0.81927544  </td><td>6.796017e-01 </td><td>4.764834e-01 </td><td>0.1613609    </td><td>0.3568838    </td><td> 0.71759845  </td><td> 0.73862853  </td></tr>\n",
       "\t<tr><td> 9.128711e-01</td><td>0.5604923    </td><td> 0.00000000  </td><td> 0.83002656  </td><td>8.771320e-01 </td><td>6.926311e-01 </td><td>0.3321136    </td><td>0.1246101    </td><td>-0.00781735  </td><td> 0.42239897  </td></tr>\n",
       "\t<tr><td> 6.535011e-02</td><td>0.8192754    </td><td> 0.83002656  </td><td> 0.00000000  </td><td>5.566394e-02 </td><td>8.311925e-02 </td><td>0.6953835    </td><td>0.7589692    </td><td> 0.52172548  </td><td>-0.12293034  </td></tr>\n",
       "\t<tr><td> 1.000484e-01</td><td>0.6796017    </td><td> 0.87713203  </td><td> 0.05566394  </td><td>5.551115e-17 </td><td>9.046656e-02 </td><td>0.2562324    </td><td>0.5641543    </td><td> 0.35326053  </td><td> 0.01522198  </td></tr>\n",
       "\t<tr><td> 1.400383e-01</td><td>0.4764834    </td><td> 0.69263112  </td><td> 0.08311925  </td><td>9.046656e-02 </td><td>1.110223e-16 </td><td>0.7619275    </td><td>0.9760502    </td><td> 0.75882270  </td><td> 0.09052441  </td></tr>\n",
       "\t<tr><td> 5.394109e-01</td><td>0.1613609    </td><td> 0.33211358  </td><td> 0.69538347  </td><td>2.562324e-01 </td><td>7.619275e-01 </td><td>0.0000000    </td><td>0.1786525    </td><td> 0.41075817  </td><td> 0.88509529  </td></tr>\n",
       "\t<tr><td> 5.581299e-01</td><td>0.3568838    </td><td> 0.12461013  </td><td> 0.75896921  </td><td>5.641543e-01 </td><td>9.760502e-01 </td><td>0.1786525    </td><td>0.0000000    </td><td> 0.22495632  </td><td> 0.88350647  </td></tr>\n",
       "\t<tr><td> 7.847939e-01</td><td>0.7175985    </td><td>-0.00781735  </td><td> 0.52172548  </td><td>3.532605e-01 </td><td>7.588227e-01 </td><td>0.4107582    </td><td>0.2249563    </td><td> 0.00000000  </td><td> 0.53865023  </td></tr>\n",
       "\t<tr><td>-1.411933e-02</td><td>0.7386285    </td><td> 0.42239897  </td><td>-0.12293034  </td><td>1.522198e-02 </td><td>9.052441e-02 </td><td>0.8850953    </td><td>0.8835065    </td><td> 0.53865023  </td><td> 0.00000000  </td></tr>\n",
       "</tbody>\n",
       "</table>\n"
      ],
      "text/latex": [
       "\\begin{tabular}{llllllllll}\n",
       "\t  5.551115e-17 & 0.6224471     &  0.91287110   &  0.06535011   & 1.000484e-01  & 1.400383e-01  & 0.5394109     & 0.5581299     &  0.78479388   & -0.01411933  \\\\\n",
       "\t  6.224471e-01 & 0.0000000     &  0.56049226   &  0.81927544   & 6.796017e-01  & 4.764834e-01  & 0.1613609     & 0.3568838     &  0.71759845   &  0.73862853  \\\\\n",
       "\t  9.128711e-01 & 0.5604923     &  0.00000000   &  0.83002656   & 8.771320e-01  & 6.926311e-01  & 0.3321136     & 0.1246101     & -0.00781735   &  0.42239897  \\\\\n",
       "\t  6.535011e-02 & 0.8192754     &  0.83002656   &  0.00000000   & 5.566394e-02  & 8.311925e-02  & 0.6953835     & 0.7589692     &  0.52172548   & -0.12293034  \\\\\n",
       "\t  1.000484e-01 & 0.6796017     &  0.87713203   &  0.05566394   & 5.551115e-17  & 9.046656e-02  & 0.2562324     & 0.5641543     &  0.35326053   &  0.01522198  \\\\\n",
       "\t  1.400383e-01 & 0.4764834     &  0.69263112   &  0.08311925   & 9.046656e-02  & 1.110223e-16  & 0.7619275     & 0.9760502     &  0.75882270   &  0.09052441  \\\\\n",
       "\t  5.394109e-01 & 0.1613609     &  0.33211358   &  0.69538347   & 2.562324e-01  & 7.619275e-01  & 0.0000000     & 0.1786525     &  0.41075817   &  0.88509529  \\\\\n",
       "\t  5.581299e-01 & 0.3568838     &  0.12461013   &  0.75896921   & 5.641543e-01  & 9.760502e-01  & 0.1786525     & 0.0000000     &  0.22495632   &  0.88350647  \\\\\n",
       "\t  7.847939e-01 & 0.7175985     & -0.00781735   &  0.52172548   & 3.532605e-01  & 7.588227e-01  & 0.4107582     & 0.2249563     &  0.00000000   &  0.53865023  \\\\\n",
       "\t -1.411933e-02 & 0.7386285     &  0.42239897   & -0.12293034   & 1.522198e-02  & 9.052441e-02  & 0.8850953     & 0.8835065     &  0.53865023   &  0.00000000  \\\\\n",
       "\\end{tabular}\n"
      ],
      "text/markdown": [
       "\n",
       "|  5.551115e-17 | 0.6224471     |  0.91287110   |  0.06535011   | 1.000484e-01  | 1.400383e-01  | 0.5394109     | 0.5581299     |  0.78479388   | -0.01411933   |\n",
       "|  6.224471e-01 | 0.0000000     |  0.56049226   |  0.81927544   | 6.796017e-01  | 4.764834e-01  | 0.1613609     | 0.3568838     |  0.71759845   |  0.73862853   |\n",
       "|  9.128711e-01 | 0.5604923     |  0.00000000   |  0.83002656   | 8.771320e-01  | 6.926311e-01  | 0.3321136     | 0.1246101     | -0.00781735   |  0.42239897   |\n",
       "|  6.535011e-02 | 0.8192754     |  0.83002656   |  0.00000000   | 5.566394e-02  | 8.311925e-02  | 0.6953835     | 0.7589692     |  0.52172548   | -0.12293034   |\n",
       "|  1.000484e-01 | 0.6796017     |  0.87713203   |  0.05566394   | 5.551115e-17  | 9.046656e-02  | 0.2562324     | 0.5641543     |  0.35326053   |  0.01522198   |\n",
       "|  1.400383e-01 | 0.4764834     |  0.69263112   |  0.08311925   | 9.046656e-02  | 1.110223e-16  | 0.7619275     | 0.9760502     |  0.75882270   |  0.09052441   |\n",
       "|  5.394109e-01 | 0.1613609     |  0.33211358   |  0.69538347   | 2.562324e-01  | 7.619275e-01  | 0.0000000     | 0.1786525     |  0.41075817   |  0.88509529   |\n",
       "|  5.581299e-01 | 0.3568838     |  0.12461013   |  0.75896921   | 5.641543e-01  | 9.760502e-01  | 0.1786525     | 0.0000000     |  0.22495632   |  0.88350647   |\n",
       "|  7.847939e-01 | 0.7175985     | -0.00781735   |  0.52172548   | 3.532605e-01  | 7.588227e-01  | 0.4107582     | 0.2249563     |  0.00000000   |  0.53865023   |\n",
       "| -1.411933e-02 | 0.7386285     |  0.42239897   | -0.12293034   | 1.522198e-02  | 9.052441e-02  | 0.8850953     | 0.8835065     |  0.53865023   |  0.00000000   |\n",
       "\n"
      ],
      "text/plain": [
       "      [,1]          [,2]      [,3]        [,4]        [,5]         [,6]        \n",
       " [1,]  5.551115e-17 0.6224471  0.91287110  0.06535011 1.000484e-01 1.400383e-01\n",
       " [2,]  6.224471e-01 0.0000000  0.56049226  0.81927544 6.796017e-01 4.764834e-01\n",
       " [3,]  9.128711e-01 0.5604923  0.00000000  0.83002656 8.771320e-01 6.926311e-01\n",
       " [4,]  6.535011e-02 0.8192754  0.83002656  0.00000000 5.566394e-02 8.311925e-02\n",
       " [5,]  1.000484e-01 0.6796017  0.87713203  0.05566394 5.551115e-17 9.046656e-02\n",
       " [6,]  1.400383e-01 0.4764834  0.69263112  0.08311925 9.046656e-02 1.110223e-16\n",
       " [7,]  5.394109e-01 0.1613609  0.33211358  0.69538347 2.562324e-01 7.619275e-01\n",
       " [8,]  5.581299e-01 0.3568838  0.12461013  0.75896921 5.641543e-01 9.760502e-01\n",
       " [9,]  7.847939e-01 0.7175985 -0.00781735  0.52172548 3.532605e-01 7.588227e-01\n",
       "[10,] -1.411933e-02 0.7386285  0.42239897 -0.12293034 1.522198e-02 9.052441e-02\n",
       "      [,7]      [,8]      [,9]        [,10]      \n",
       " [1,] 0.5394109 0.5581299  0.78479388 -0.01411933\n",
       " [2,] 0.1613609 0.3568838  0.71759845  0.73862853\n",
       " [3,] 0.3321136 0.1246101 -0.00781735  0.42239897\n",
       " [4,] 0.6953835 0.7589692  0.52172548 -0.12293034\n",
       " [5,] 0.2562324 0.5641543  0.35326053  0.01522198\n",
       " [6,] 0.7619275 0.9760502  0.75882270  0.09052441\n",
       " [7,] 0.0000000 0.1786525  0.41075817  0.88509529\n",
       " [8,] 0.1786525 0.0000000  0.22495632  0.88350647\n",
       " [9,] 0.4107582 0.2249563  0.00000000  0.53865023\n",
       "[10,] 0.8850953 0.8835065  0.53865023  0.00000000"
      ]
     },
     "metadata": {},
     "output_type": "display_data"
    }
   ],
   "source": [
    "dr.interpolated"
   ]
  },
  {
   "cell_type": "markdown",
   "metadata": {},
   "source": [
    "### Try and reconstruct the phenomenological space"
   ]
  },
  {
   "cell_type": "markdown",
   "metadata": {},
   "source": [
    "Now that we have a full dissimilarity matrix comprised of original and interpolated data, we will try and see if we can reconstruct the phenomenological space from this matrix."
   ]
  },
  {
   "cell_type": "code",
   "execution_count": 215,
   "metadata": {},
   "outputs": [],
   "source": [
    "# plot an MDS fit\n",
    "cmdsplot <- function(Q1,Q2,n.qualia,k=2,var=0){\n",
    "    \n",
    "    #print(n.qualia) # testing\n",
    "    dr.matrix <- dr(n.samples=n.qualia,Q2,Q1,metric=d.shepard,var=var)\n",
    "    #print(dr.matrix)\n",
    "    dr.int <- interpolate.matrix(dr.matrix,method='pearson')\n",
    "    #print(dr.int) # testing\n",
    "    fit <- cmdscale(dr.int,k) # do the MDS   \n",
    "    fit <- as.data.frame(fit)\n",
    "    colors <- colors(Q1,Q2)\n",
    "    labels <- labels(Q1,Q2)\n",
    "    \n",
    "    plot <-     ggplot(fit, aes(x = V1, y = V2, color=colors)) + geom_point(size =10) + \n",
    "                geom_text(aes(label=labels, vjust=-2)) +\n",
    "                xlab(\"Dimension 1\") + ylab(\"Dimension 2\") + \n",
    "                ggtitle((paste('Classical MDS - ','SD = ',var,'*','(MAX DR)',sep=''))) + \n",
    "                theme(legend.position='none')\n",
    "    return(plot)\n",
    "}"
   ]
  },
  {
   "cell_type": "markdown",
   "metadata": {},
   "source": [
    "Let's see what it looks like on the full dissimilarity matrix"
   ]
  },
  {
   "cell_type": "code",
   "execution_count": 216,
   "metadata": {},
   "outputs": [],
   "source": [
    "interpolate.plot <- cmdsplot(Q1,Q2,n.qualia=n.qualia,var=0.25)"
   ]
  },
  {
   "cell_type": "markdown",
   "metadata": {},
   "source": [
    "Let's compare this to the original phenomenological space"
   ]
  },
  {
   "cell_type": "code",
   "execution_count": 217,
   "metadata": {},
   "outputs": [],
   "source": [
    "# compare the phenomenological space to the cmds\n",
    "compare.plots <- function(qspace.plot,interpolate.plot){\n",
    "    grob <- arrangeGrob(qspace.plot,interpolate.plot,\n",
    "                       nrow = 1, ncol = 2)\n",
    "}"
   ]
  },
  {
   "cell_type": "code",
   "execution_count": 218,
   "metadata": {},
   "outputs": [
    {
     "data": {
      "image/png": "[encoded data removed]",
      "text/plain": [
       "plot without title"
      ]
     },
     "metadata": {},
     "output_type": "display_data"
    }
   ],
   "source": [
    "compare <- compare.plots(qspace.plot, interpolate.plot)\n",
    "grid.arrange(compare)"
   ]
  },
  {
   "cell_type": "markdown",
   "metadata": {},
   "source": [
    "### Putting everything together in one go"
   ]
  },
  {
   "cell_type": "code",
   "execution_count": 120,
   "metadata": {},
   "outputs": [],
   "source": [
    "test <- function(n=9,var=0){\n",
    "    Q1 <- sample.hue.circle(n.samples=n)\n",
    "    Q2 <- sample.hue.circle(n.samples=n, offset=0.5)\n",
    "    qspace.plot <- sample.plot(Q1,Q2)\n",
    "    interpolate.plot <- cmdsplot(Q1,Q2,n.qualia=n,k=2,var=var)\n",
    "    compare <- compare.plots(qspace.plot, interpolate.plot)\n",
    "    grid.arrange(compare)\n",
    "}\n"
   ]
  },
  {
   "cell_type": "code",
   "execution_count": 121,
   "metadata": {},
   "outputs": [],
   "source": [
    "#test(8,var=0.5)"
   ]
  },
  {
   "cell_type": "code",
   "execution_count": 122,
   "metadata": {},
   "outputs": [],
   "source": [
    "# make a demonstration plot\n",
    "demo.plot <- function(){\n",
    "    \n",
    "    stim.list <- c(3,4,8,12,16)\n",
    "    noise.list <- c(0.01,0.05,0.1,0.25,0.5)\n",
    "\n",
    "    \n",
    "    k = 0 # counter\n",
    "    plot_list <- list() # list to store the plots in as we're making them\n",
    "    \n",
    "    for(stim in stim.list){\n",
    "        Q1 <- sample.hue.circle(n.samples=stim)\n",
    "        Q2 <- sample.hue.circle(n.samples=stim, offset=0.5)\n",
    "        qspace.plot <- sample.plot(Q1,Q2)\n",
    "        k = k+1\n",
    "        plot_list[[k]] <- as.grob(qspace.plot)\n",
    "        for(noise in noise.list){\n",
    "            interpolate.plot <- cmdsplot(Q1,Q2,n.qualia=stim,k=2,var=noise)\n",
    "            k = k+1\n",
    "            plot_list[[k]] <- interpolate.plot\n",
    "        }        \n",
    "    }\n",
    "    g <- arrangeGrob(grobs = plot_list, ncol = length(noise.list)+1, nrow = length(stim.list))\n",
    "    ggsave('Demo.png',g,height=25,width=25)\n",
    "}"
   ]
  },
  {
   "cell_type": "code",
   "execution_count": 36,
   "metadata": {},
   "outputs": [],
   "source": [
    "demo.plot()"
   ]
  },
  {
   "cell_type": "markdown",
   "metadata": {},
   "source": [
    "### Testing Rank Structure Stuff"
   ]
  },
  {
   "cell_type": "markdown",
   "metadata": {},
   "source": [
    "Shouldn't be copy-pasting code, fix this please"
   ]
  },
  {
   "cell_type": "code",
   "execution_count": 219,
   "metadata": {},
   "outputs": [],
   "source": [
    "# test for rank order violation given two values\n",
    "rank.obtain <- function(vals,invert=FALSE){\n",
    "    if(vals[1] < vals[2]){ # d(x,y) < d(y,z)\n",
    "        rank = -1\n",
    "    } else if (vals[1] == vals[2]){ # d(x,y) = d(y,z)\n",
    "        rank = 0\n",
    "    } else if (vals[1] > vals[2]){ # d(x,y) > d(y,z)\n",
    "        rank = 1\n",
    "    }\n",
    "    if(invert){\n",
    "        return(-rank)\n",
    "    }\n",
    "    return(rank)\n",
    "}"
   ]
  },
  {
   "cell_type": "code",
   "execution_count": 220,
   "metadata": {},
   "outputs": [],
   "source": [
    "# obtain a set of rank-order matrices within-subject\n",
    "rank.mat.obtain <- function(mat){\n",
    "    n.stim <- nrow(mat)\n",
    "    mat.list <- list()\n",
    "    for(i in 1:(n.stim)){ # y = i\n",
    "        rank.mat <- matrix(,nrow(mat),ncol(mat))\n",
    "        for(j in 1:(n.stim)){ # x = j\n",
    "            for(k in 1:(n.stim)){ # z = k                \n",
    "                d.xy <- mat[j,i]\n",
    "                d.yz <- mat[i,k]\n",
    "                vals <- c(d.xy, d.yz)\n",
    "                if( (j==i) | (k==i) ){\n",
    "                    rank <- NA\n",
    "                } else {\n",
    "                    rank <- rank.obtain(vals)\n",
    "                }\n",
    "                rank.mat[j,k] <- rank # y = i, place value in a x * z matrix\n",
    "            }\n",
    "        }\n",
    "        mat.list[[i]] <- rank.mat # y = i, full x * z matrix\n",
    "    }\n",
    "    return(mat.list)\n",
    "}"
   ]
  },
  {
   "cell_type": "code",
   "execution_count": 221,
   "metadata": {},
   "outputs": [],
   "source": [
    "# generic matrix plot stuff\n",
    "plot.rank.mat.generic <- function(mat){\n",
    "    \n",
    "    longData <- melt(mat)\n",
    "    \n",
    "    plot <- ggplot(longData, aes(x = Var2, y=Var1)) + \n",
    "    geom_raster(aes(fill=value)) +\n",
    "    scale_fill_gradientn(colours = c('blue','yellow'),\n",
    "                         limits = c(-1,1), \n",
    "                         breaks=c(-1,0,1),\n",
    "                        na.value='green')\n",
    "\n",
    "    return(plot)\n",
    "}"
   ]
  },
  {
   "cell_type": "code",
   "execution_count": 222,
   "metadata": {},
   "outputs": [],
   "source": [
    "# plot a set of rank-order matrices\n",
    "rank.mat.plot.set <- function(mat.list){\n",
    "    k = 1 # counter\n",
    "    plot_list <- list()\n",
    "    \n",
    "    for(mat in mat.list){\n",
    "        graph <- plot.rank.mat.generic(mat)\n",
    "        plot_list[[k]] <- as.grob(graph)\n",
    "        k = k + 1\n",
    "    }\n",
    "    g <- arrangeGrob(grobs = plot_list, ncol = 9, nrow = 2)\n",
    "    ggsave('rank_mat_plots_demo.png',g,height=8,width=39)\n",
    "}"
   ]
  },
  {
   "cell_type": "code",
   "execution_count": 256,
   "metadata": {},
   "outputs": [],
   "source": [
    "# take a set of rank matrices, flatten into one giant matrix\n",
    "flatten <- function(mat.list){\n",
    "    n.mats <- length(mat.list)\n",
    "    x <- sqrt(n.mats)\n",
    "    n.elements <- n.mats*n.mats\n",
    "    flat.mat <- matrix(,n.mats*ceiling(x),n.mats*floor(x))  \n",
    "   \n",
    "    count = 1\n",
    "    \n",
    "    for(i in 1:ceiling(x)){\n",
    "        for(j in 1:floor(x)){\n",
    "\n",
    "            if(count <= length(mat.list)){\n",
    "                flat.mat[((i*n.mats)-(n.mats-1)):((i*n.mats)) , ((j*n.mats)-(n.mats-1)):((j*n.mats))] <- mat.list[[count]]\n",
    "                count = count + 1\n",
    "            }\n",
    "            \n",
    "        }\n",
    "    }\n",
    "    \n",
    "    return(flat.mat)\n",
    "}"
   ]
  },
  {
   "cell_type": "code",
   "execution_count": 257,
   "metadata": {},
   "outputs": [
    {
     "data": {
      "image/png": "[encoded data removed]",
      "text/plain": [
       "plot without title"
      ]
     },
     "metadata": {},
     "output_type": "display_data"
    }
   ],
   "source": [
    "# testing stuff\n",
    "testmat <- rank.mat.obtain(dr.interpolated)\n",
    "#rank.mat.plot.set(testmat)\n",
    "flat <- flatten(testmat)\n",
    "plot.rank.mat.generic(flat)"
   ]
  },
  {
   "cell_type": "code",
   "execution_count": 253,
   "metadata": {},
   "outputs": [],
   "source": [
    "# get a list of the flattened matrices for each subject\n",
    "bs.flat.list <- function(n,var,comparison='CC',n.qualia=n.qualia){\n",
    "    output <- list()\n",
    "    k = 1\n",
    "    for(ID in 1:n){\n",
    "        \n",
    "        dr.matrix <- dr(n.samples=n.qualia,Q2,Q1,metric=d.shepard,var=var)\n",
    "        dr.int <- interpolate.matrix(dr.matrix,method='pearson')\n",
    "        \n",
    "        rankmat <- rank.mat.obtain(dr.int)\n",
    "        flatmat <- flatten(rankmat)\n",
    "        #print(flatmat[1:10,1:10]) # testing\n",
    "        output[[k]] <- flatmat\n",
    "        k = k+1\n",
    "    }\n",
    "    return(output)\n",
    "}"
   ]
  },
  {
   "cell_type": "code",
   "execution_count": 169,
   "metadata": {},
   "outputs": [],
   "source": [
    "# check whether cell values in a list of flattened matrices are statistically non-zero\n",
    "flat.zero.test <- function(flat.list, mu = 0, threshold = 0.05, test.mat=FALSE){\n",
    "    count.non.zero = 0\n",
    "    count.cells = 0\n",
    "    output.vec <- vector()\n",
    "    for (i in 1:length(flat.list[[1]])){ # all the cells\n",
    "        cell.vals <- vector()\n",
    "        for (j in 1:length(flat.list)){ # all the matrices\n",
    "            cell.vals <- c(cell.vals,flat.list[[j]][i])\n",
    "        }\n",
    "        if(!all(is.na(cell.vals))){\n",
    "            count.cells = count.cells + 1\n",
    "            test <- wilcox.test(cell.vals, mu = 0, alternative = \"two.sided\",exact=FALSE)\n",
    "            non.zero <- (test$p.value < threshold)\n",
    "            if(is.na(non.zero)){ # is this appropriate? Do we count the main diagonal?\n",
    "                non.zero <- FALSE\n",
    "            }\n",
    "            if(non.zero){\n",
    "                count.non.zero = count.non.zero + 1\n",
    "            }\n",
    "            if(test.mat){\n",
    "                output.vec <- c(output.vec,non.zero)\n",
    "            }\n",
    "        } else {\n",
    "            output.vec <- c(output.vec,NA)\n",
    "        }\n",
    "        \n",
    "    }\n",
    "    if(test.mat){\n",
    "        output.mat <- matrix(output.vec,nrow(flat.list[[1]]),ncol(flat.list[[1]]))\n",
    "        return(output.mat)\n",
    "    }\n",
    "    return(count.non.zero/count.cells)\n",
    "}"
   ]
  },
  {
   "cell_type": "code",
   "execution_count": 182,
   "metadata": {},
   "outputs": [],
   "source": [
    "# plot a group of flat matrices\n",
    "flat.group.plot <- function(n,n.qualia,var){\n",
    "    subject.list <- bs.flat.list(n=n,var=var,comparison='BLAH',n.qualia=n.qualia)\n",
    "    k = 1 # counter\n",
    "    plot_list <- list()\n",
    "    for(subject in 1:length(subject.list)){\n",
    "        graph <- plot.rank.mat.generic(subject.list[[subject]])\n",
    "        plot_list[[k]] <- as.grob(graph)\n",
    "        k = k + 1\n",
    "    }\n",
    "    # add a group average plot\n",
    "    group.average <- Reduce('+',subject.list)/length(subject.list)\n",
    "    group.average.plot <- plot.rank.mat.generic(group.average)\n",
    "    plot_list[[k]] <- as.grob(group.average.plot)\n",
    "    k = k + 1\n",
    "    \n",
    "    # add a proportion plot\n",
    "    non.zero.pr <- flat.zero.test(subject.list)\n",
    "    plot_list[[k]] <- as.grob(proportion(non.zero.pr))\n",
    "    \n",
    "    label <- paste(\"Qualia - \",n.qualia,\"Noise SD - \",var)\n",
    "    title <- textGrob(label, gp=gpar(fontsize=35))\n",
    "    x <- round(sqrt(k)) + 1\n",
    "    g <- arrangeGrob(grobs = plot_list, ncol = x, nrow=x, top=title)\n",
    "    ggsave(paste(label,'.png'),\n",
    "           g,height=x*4,width=x*4)\n",
    "}"
   ]
  },
  {
   "cell_type": "code",
   "execution_count": 178,
   "metadata": {},
   "outputs": [],
   "source": [
    "# proportion plot\n",
    "proportion <- function(pr){\n",
    "    prop <- 100*pr\n",
    "    non.prop <- 100-prop\n",
    "    vec <- c(prop,non.prop)\n",
    "    #labels <- c('Non-zero','Zero')\n",
    "    labels <- c(paste('Non-zero:',round(prop,1)),paste('Zero: ',round(non.prop,1)))\n",
    "    df <- data.frame(\n",
    "        group = labels, value = c(prop,non.prop))\n",
    "    plot <- ggplot(df, aes(x=\"\", y=value, fill=group)) + geom_bar(width=1, stat= 'identity') +\n",
    "        xlab(\"\") + ylab(\"Proportion Non-zero (nonparametric, p < 0.05)\")\n",
    "    return(plot)\n",
    "}"
   ]
  },
  {
   "cell_type": "code",
   "execution_count": 193,
   "metadata": {},
   "outputs": [
    {
     "ename": "ERROR",
     "evalue": "Error in Q2[j, 1:2]: subscript out of bounds\n",
     "output_type": "error",
     "traceback": [
      "Error in Q2[j, 1:2]: subscript out of bounds\nTraceback:\n",
      "1. flat.group.plot(n = 10, var = 0.25, n.qualia = 16)",
      "2. bs.flat.list(n = n, var = var, comparison = \"BLAH\", n.qualia = n.qualia)   # at line 3 of file <text>",
      "3. dr(n.samples = n.qualia, Q2, Q1, metric = d.shepard, var = var)   # at line 7 of file <text>"
     ]
    }
   ],
   "source": [
    "flat.group.plot(n=10,var=0.25,n.qualia=16)"
   ]
  },
  {
   "cell_type": "code",
   "execution_count": null,
   "metadata": {},
   "outputs": [],
   "source": []
  }
 ],
 "metadata": {
  "kernelspec": {
   "display_name": "R",
   "language": "R",
   "name": "ir"
  },
  "language_info": {
   "codemirror_mode": "r",
   "file_extension": ".r",
   "mimetype": "text/x-r-source",
   "name": "R",
   "pygments_lexer": "r",
   "version": "3.6.1"
  }
 },
 "nbformat": 4,
 "nbformat_minor": 4
}
