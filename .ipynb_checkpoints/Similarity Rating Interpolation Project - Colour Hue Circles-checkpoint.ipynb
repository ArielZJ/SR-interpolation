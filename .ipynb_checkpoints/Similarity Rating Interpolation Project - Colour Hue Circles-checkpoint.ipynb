{
 "cells": [
  {
   "cell_type": "markdown",
   "metadata": {},
   "source": [
    "## Similiarity Rating Interpolation Project"
   ]
  },
  {
   "cell_type": "markdown",
   "metadata": {},
   "source": [
    "_Written by Ariel Zeleznikow-Johnston  \n",
    "ariel.zeleznikow-johnston@monash.edu  \n",
    "Last updated 11-Nov-2020_"
   ]
  },
  {
   "cell_type": "markdown",
   "metadata": {},
   "source": [
    "This project is an attempt to simulate similarity rating interpolations from incomplete data. The aim of this part of the project is to see if a colour hue circle in phenomenological space can be ascertained from incomplete comparisons of samples within that space, given different similarity rating generation metrics"
   ]
  },
  {
   "cell_type": "code",
   "execution_count": 34,
   "metadata": {},
   "outputs": [],
   "source": [
    "# libraries\n",
    "library(MASS) # for MDS\n",
    "library(ggplot2) # for plotting\n",
    "library(RColorBrewer) # for colour scales in plots\n",
    "library(gridExtra) # for merging plots\n",
    "library(grid) # for merging plots\n",
    "library(ggplotify) # for merging plots\n",
    "library(reshape2)# for messing with data\n",
    "library(forcats)\n",
    "library(colorRamps)"
   ]
  },
  {
   "cell_type": "code",
   "execution_count": 35,
   "metadata": {},
   "outputs": [],
   "source": [
    "# Define some constants\n",
    "n.dim = 2\n",
    "radius = 1\n",
    "dr.max = 1\n",
    "dr.min = 0\n",
    "exp.const = 2\n",
    "n.qualia=5\n",
    "n.subject.groups = 3"
   ]
  },
  {
   "cell_type": "markdown",
   "metadata": {},
   "source": [
    "### The phenomenological space"
   ]
  },
  {
   "cell_type": "markdown",
   "metadata": {},
   "source": [
    "First, we need to define the space from which we're going to try and obtain similarity ratings. For current purposes, we're going to define an isoluminant maximally-saturated hue circle as a unit circle in a metric space of R<sup>2</sup>"
   ]
  },
  {
   "cell_type": "code",
   "execution_count": 36,
   "metadata": {},
   "outputs": [],
   "source": [
    "# Polar to cartesian \n",
    "pol2cart <- function(radius,angle){\n",
    "    x <- radius*cos(angle)\n",
    "    y <- radius*sin(angle)\n",
    "    return(c(x,y))\n",
    "}"
   ]
  },
  {
   "cell_type": "code",
   "execution_count": 37,
   "metadata": {},
   "outputs": [],
   "source": [
    "# Get samples from the hue circle\n",
    "sample.hue.circle <- function(n.samples, distribution='uniform',offset=0, format='cartesian'){\n",
    "    output <- matrix(, nrow = n.samples, ncol = n.dim) # initialise the output matrix\n",
    "    \n",
    "    # obtain the samples\n",
    "    interval.angle <- 2*pi/n.samples\n",
    "    for(i in (1:n.samples)){\n",
    "        theta <- i*interval.angle + offset*interval.angle\n",
    "        if(format == 'cartesian'){\n",
    "            output[i,1:2] <- pol2cart(radius,theta)\n",
    "        } else if (format == 'polar'){\n",
    "            output[i,1:2] <- c(radius,theta)\n",
    "        }\n",
    "    }\n",
    "    return(output)\n",
    "}"
   ]
  },
  {
   "cell_type": "code",
   "execution_count": 38,
   "metadata": {},
   "outputs": [],
   "source": [
    "# colour the plot appropriately\n",
    "# revise to work with multiple subject groups\n",
    "colors <- function(n.qualia,n.groups){\n",
    "    \n",
    "    color.choices <- brewer.pal(n.groups,\"Set1\")\n",
    "    color.v <- c()\n",
    "    \n",
    "    for(group in 1:n.groups){\n",
    "        color <- color.choices[group]\n",
    "        colors <- rep(color,n.qualia/n.groups)\n",
    "        color.v <- c(color.v, colors)\n",
    "    }   \n",
    "    \n",
    "    return(color.v)\n",
    "}"
   ]
  },
  {
   "cell_type": "code",
   "execution_count": 39,
   "metadata": {},
   "outputs": [],
   "source": [
    "# label the plot points appropriately\n",
    "# revise to work with multiple subject groups\n",
    "\n",
    "labels <- function(n.qualia,n.groups){\n",
    "    \n",
    "    labels <- c()\n",
    "    k = 1\n",
    "    \n",
    "    for(group in 1:n.groups){\n",
    "        for(quale in 1:(n.qualia/n.groups)){\n",
    "            k = quale*n.groups + group  -n.groups # label the actual consecutive stimuli\n",
    "            if(k < 10){\n",
    "                k = paste('0',k,sep='')\n",
    "            }\n",
    "            label <- paste(k,': ','G',group,'_','Q',quale,sep='')\n",
    "            labels <- c(labels,label)\n",
    "            k = 1\n",
    "        }\n",
    "    }\n",
    "    return(labels)\n",
    "}"
   ]
  },
  {
   "cell_type": "code",
   "execution_count": 86,
   "metadata": {},
   "outputs": [],
   "source": [
    "# plot sampled hue circles\n",
    "# revise to work with multiple subject groups\n",
    "\n",
    "sample.plot <- function(group.list,n.qualia,n.groups,half=FALSE,rainbow=FALSE){\n",
    "    \n",
    "    \n",
    "    \n",
    "    points <- do.call(rbind,group.list)\n",
    "    colnames(points) <- c('V1','V2')\n",
    "    points <- data.frame(points)\n",
    "    \n",
    "    # get the colors & labels\n",
    "    if(half){\n",
    "        points <- sample.hue.circle(24)\n",
    "        colnames(points) <- c('V1','V2')\n",
    "        points <- data.frame(points)\n",
    "        \n",
    "        color.choices <- brewer.pal(2,\"Set1\")\n",
    "        color1 <- rep(color.choices[1],n.qualia/2)\n",
    "        color2 <- rep(color.choices[2],n.qualia/2)\n",
    "        colors <- c(color1,color2)\n",
    "        labels <- c()\n",
    "        k = 1\n",
    "        for(col1 in 1:(n.qualia/2)){\n",
    "            label <- paste(k,': ','G',1,'_','Q',col1,sep='')\n",
    "            labels <- c(labels,label)\n",
    "            k = k + 1\n",
    "        }\n",
    "        for(col2 in 1:(n.qualia/2)){\n",
    "            label <- paste(k,': ','G',2,'_','Q',col2,sep='')\n",
    "            labels <- c(labels,label)\n",
    "            k = k + 1\n",
    "        }\n",
    "        points$labels <- labels\n",
    "        \n",
    "    } else if(rainbow) {\n",
    "        colors <- rainbow(n.qualia)\n",
    "        points$labels <- labels(n.qualia,n.groups)\n",
    "    } else {\n",
    "        colors <- colors(n.qualia,n.groups)\n",
    "        points$labels <- labels(n.qualia,n.groups)\n",
    "    }\n",
    "    \n",
    "    \n",
    "    plot <-     ggplot(points, aes(x = V1, y = V2, color=colors)) + geom_point(size =10) + \n",
    "                geom_text(aes(label=labels, vjust=-2)) +\n",
    "                xlab(\"Green - Red\") + ylab(\"Blue - Yellow\") + \n",
    "                ggtitle('Phenomenological Space') + theme(legend.position='none') +scale_colour_identity()\n",
    "    return(plot)\n",
    "}"
   ]
  },
  {
   "cell_type": "code",
   "execution_count": 87,
   "metadata": {},
   "outputs": [
    {
     "name": "stderr",
     "output_type": "stream",
     "text": [
      "Warning message in brewer.pal(2, \"Set1\"):\n",
      "\"minimal value for n is 3, returning requested palette with 3 different levels\n",
      "\""
     ]
    },
    {
     "data": {
      "image/png": "[encoded data removed]",
      "text/plain": [
       "plot without title"
      ]
     },
     "metadata": {},
     "output_type": "display_data"
    }
   ],
   "source": [
    "sample.plot(sample.groups(24,1),24,1,half=TRUE)"
   ]
  },
  {
   "cell_type": "code",
   "execution_count": 41,
   "metadata": {},
   "outputs": [],
   "source": [
    "# divide the hue circle up into the judgments each group is going to make\n",
    "sample.groups <- function(n.qualia,n.groups){\n",
    "    \n",
    "    group.judgments <- list()\n",
    "    k = 1\n",
    "    \n",
    "    for(group in 1:n.groups){\n",
    "        samples <- sample.hue.circle(n.samples=n.qualia/n.groups, offset = group/n.groups)\n",
    "        group.judgments[[k]] <- samples\n",
    "        k = k + 1\n",
    "    }\n",
    "    \n",
    "    return(group.judgments)\n",
    "}"
   ]
  },
  {
   "cell_type": "markdown",
   "metadata": {},
   "source": [
    "Let's obtain some samples"
   ]
  },
  {
   "cell_type": "code",
   "execution_count": 42,
   "metadata": {},
   "outputs": [
    {
     "name": "stderr",
     "output_type": "stream",
     "text": [
      "Warning message in brewer.pal(n.groups, \"Set1\"):\n",
      "\"minimal value for n is 3, returning requested palette with 3 different levels\n",
      "\""
     ]
    },
    {
     "data": {
      "image/png": "[encoded data removed]",
      "text/plain": [
       "plot without title"
      ]
     },
     "metadata": {},
     "output_type": "display_data"
    },
    {
     "data": {
      "text/html": [
       "<ol class=list-inline>\n",
       "\t<li>-0.866025403784438</li>\n",
       "\t<li>0.5</li>\n",
       "</ol>\n"
      ],
      "text/latex": [
       "\\begin{enumerate*}\n",
       "\\item -0.866025403784438\n",
       "\\item 0.5\n",
       "\\end{enumerate*}\n"
      ],
      "text/markdown": [
       "1. -0.866025403784438\n",
       "2. 0.5\n",
       "\n",
       "\n"
      ],
      "text/plain": [
       "[1] -0.8660254  0.5000000"
      ]
     },
     "metadata": {},
     "output_type": "display_data"
    },
    {
     "data": {
      "image/png": "[encoded data removed]",
      "text/plain": [
       "plot without title"
      ]
     },
     "metadata": {},
     "output_type": "display_data"
    }
   ],
   "source": [
    "a <- 24\n",
    "b <- 2\n",
    "p.data <- sample.groups(a,b)\n",
    "#p.data\n",
    "qspace.plot <- sample.plot(p.data,a,1)\n",
    "sample.plot(sample.groups(24,1),a,1,rainbow=TRUE)\n",
    "qspace.plot\n",
    "p.data[[2]][4,1:2]\n"
   ]
  },
  {
   "cell_type": "code",
   "execution_count": null,
   "metadata": {},
   "outputs": [],
   "source": []
  },
  {
   "cell_type": "markdown",
   "metadata": {},
   "source": [
    "### Generating similarity ratings"
   ]
  },
  {
   "cell_type": "markdown",
   "metadata": {},
   "source": [
    "Next, we need to calculate the similarity ratings based on the samples obtained and some metric that can provide dissimilarities based on two points in the phenomenological space. We can use various different distance functions to do this. We can also add noise to the similarity ratings at this time if we wish, to simulate noisy data from subjects under real-world conditions"
   ]
  },
  {
   "cell_type": "code",
   "execution_count": 43,
   "metadata": {},
   "outputs": [],
   "source": [
    "# Different distance functions\n",
    "d.euclidean <- function(a,b){\n",
    "    d <- sqrt( (a[1]-b[1])**2 + (a[2]-b[2])**2 )\n",
    "    return(d)\n",
    "}\n",
    "\n",
    "d.shepard <- function(a,b){\n",
    "    d.eu <- d.euclidean(a,b)\n",
    "    d.shepard <- exp.const**d.eu-1\n",
    "    return(d.shepard)\n",
    "}"
   ]
  },
  {
   "cell_type": "code",
   "execution_count": 44,
   "metadata": {},
   "outputs": [],
   "source": [
    "# Add some noise to the similarity ratings\n",
    "noise <-function(var,dr.max,type='gaussian'){\n",
    "    if(type=='gaussian'){\n",
    "        error <- rnorm(1,mean=0,sd=var) * dr.max\n",
    "    }\n",
    "    return(error)\n",
    "}"
   ]
  },
  {
   "cell_type": "code",
   "execution_count": 45,
   "metadata": {},
   "outputs": [],
   "source": [
    "# interpolate across subjects with overlapping similarity judgments\n",
    "dr.overlap <- function(group.list,metric='d.shepard',var=0,diagnose=FALSE,index=FALSE, overlap=0, reverse=FALSE){\n",
    "    \n",
    "     # populate the matrix\n",
    "    n.samples <- nrow(group.list[[1]])\n",
    "    n.groups <- length(group.list)\n",
    "    n.qualia <- n.samples*n.groups\n",
    "    if(diagnose){\n",
    "        print(paste('n.samples',n.samples))\n",
    "        print(paste('n.groups',n.groups))\n",
    "        print(paste('n.qualia',n.qualia))\n",
    "    }\n",
    "    \n",
    "    points <- do.call(rbind,group.list)\n",
    "    \n",
    "    method <- match.fun(metric) # select the metric of choice\n",
    "    mat <- matrix(,nrow=n.qualia,ncol=n.qualia)  # initialise a matrix\n",
    "    names <- labels(n.qualia,n.groups)\n",
    "    colnames(mat) <- c(names)\n",
    "    rownames(mat) <- c(names)\n",
    "    dr.max <- method(c(-1,-1),c(1,1)) # Find the maximum possible dissimilarity rating\n",
    "    \n",
    "    # get the values\n",
    "    for(group in 1:n.groups){\n",
    "        for(q1 in 1:(n.samples + overlap)){\n",
    "            for(q2 in 1:(n.samples + overlap)){\n",
    "                \n",
    "                q1.i <- ( ( (group-1)*n.samples+q1 - 1) %% (n.qualia) + 1)\n",
    "                q2.j <- ( ( (group-1)*n.samples+q2 - 1) %% (n.qualia) + 1)\n",
    "                \n",
    "                \n",
    "                                \n",
    "                q1.p <- points[q1.i,1:2]\n",
    "                q2.p <- points[q2.j,1:2]\n",
    "                val <- (method(q1.p,q2.p) + noise(var,dr.max))/dr.max # not sure this is calculated correctly, where I should be applying the noise...\n",
    "                if(val > 0){ # no negative dissimilarity values. Needed to avoid noise making this negative\n",
    "                    mat[q1.i,q2.j] <- val\n",
    "                } else {\n",
    "                    mat[q1.i,q2.j] <- 0\n",
    "                }\n",
    "                if(diagnose){\n",
    "                    print(points)\n",
    "                    print(paste('group',group))\n",
    "                    print(paste('q1',q1))\n",
    "                    print(paste('q2',q2))\n",
    "                    print(paste('q1.i',q1.i))\n",
    "                    print(q1.p)\n",
    "                    print(paste('q2.j',q2.j))\n",
    "                    print(q2.p)\n",
    "                    print(val)\n",
    "                    print(\"\")\n",
    "                }\n",
    "                if(index){\n",
    "                    mat[q1.i,q2.j] <- paste('q1.i:',q1.i,' ','q2.j:',q2.j,'        ')\n",
    "                                            #round(q1.p[1],2),round(q1.p[2],2),'_',round(q2.p[1],2),round(q2.p[2],2))\n",
    "                }\n",
    "            }\n",
    "        }\n",
    "    }\n",
    "    \n",
    "    #return the matrix\n",
    "    return(mat)\n",
    "}"
   ]
  },
  {
   "cell_type": "code",
   "execution_count": 46,
   "metadata": {},
   "outputs": [],
   "source": [
    "# divide up the space, compare every quale to every other quale not including itself\n",
    "dr.every.other <- function(n.qualia, metric='d.shepard',var=0,diagnose=FALSE){\n",
    "    \n",
    "    method <- match.fun(metric) # select the metric of choice\n",
    "    mat <- matrix(,nrow=n.qualia,ncol=n.qualia)  # initialise a matrix\n",
    "    n.samples <- n.qualia/2\n",
    "    dr.max <- method(c(-1,-1),c(1,1)) # Find the maximum possible dissimilarity rating\n",
    "    \n",
    "    names <- labels(n.qualia,2)\n",
    "    colnames(mat) <- c(names)\n",
    "    rownames(mat) <- c(names)\n",
    "    \n",
    "    # get the values\n",
    "    Q1 <- sample.hue.circle(n.samples=n.qualia)\n",
    "    Q2 <- sample.hue.circle(n.samples=n.qualia, offset=0.5)\n",
    "    \n",
    "    # populate the Q1 x Q2 matrix\n",
    "    for(i in (1:n.samples)){\n",
    "        q1 <- Q1[i,1:2]\n",
    "        for(j in (1:n.samples)){\n",
    "            q2 <- Q2[j,1:2]\n",
    "            val <- (method(q1,q2) + noise(var,dr.max=dr.max))/dr.max # not sure this is calculated correctly, where I should be applying the noise...\n",
    "            if(val > 0){ # no negative dissimilarity values. Needed to avoid noise making this negative\n",
    "                mat[i,j+n.samples] <- val\n",
    "            } else {\n",
    "                mat[i,j+n.samples] <- 0\n",
    "            }\n",
    "            mat[i,j+n.samples] \n",
    "        }\n",
    "    }\n",
    "    # transpose the results to make the bottom right comparisons\n",
    "    mat[(n.samples+1):(n.samples*2), 1:n.samples] <- t(mat[1:n.samples,(n.samples+1):(n.samples*2)])\n",
    "    \n",
    "    \n",
    "    return(mat)\n",
    "    \n",
    "}"
   ]
  },
  {
   "cell_type": "code",
   "execution_count": 47,
   "metadata": {},
   "outputs": [],
   "source": [
    "# divide up the space, compare every quale to every other quale not including itself\n",
    "dr.half <- function(n.qualia, metric='d.shepard',var=0,diagnose=FALSE){\n",
    "    \n",
    "    method <- match.fun(metric) # select the metric of choice\n",
    "    mat <- matrix(,nrow=n.qualia,ncol=n.qualia)  # initialise a matrix\n",
    "    n.samples <- n.qualia/2\n",
    "    dr.max <- method(c(-1,-1),c(1,1)) # Find the maximum possible dissimilarity rating\n",
    "    \n",
    "    names <- labels(n.qualia,1)\n",
    "    colnames(mat) <- c(names)\n",
    "    rownames(mat) <- c(names)\n",
    "    \n",
    "    # get the values\n",
    "    Q <- sample.hue.circle(n.qualia)\n",
    "    Q1 <- Q[1:n.samples,1:2]\n",
    "    Q2 <- Q[(n.samples+1):n.qualia,1:2]\n",
    "    \n",
    "    # populate the Q1 x Q2 matrix\n",
    "    for(i in (1:n.samples)){\n",
    "        q1 <- Q1[i,1:2]\n",
    "        for(j in (1:n.samples)){\n",
    "            q2 <- Q2[j,1:2]\n",
    "            val <- (method(q1,q2) + noise(var,dr.max=dr.max))/dr.max # not sure this is calculated correctly, where I should be applying the noise...\n",
    "            if(val > 0){ # no negative dissimilarity values. Needed to avoid noise making this negative\n",
    "                mat[i,j+n.samples] <- val\n",
    "            } else {\n",
    "                mat[i,j+n.samples] <- 0\n",
    "            }\n",
    "            mat[i,j+n.samples] \n",
    "        }\n",
    "    }\n",
    "    # transpose the results to make the bottom right comparisons\n",
    "    mat[(n.samples+1):(n.qualia), 1:n.samples] <- t(mat[1:n.samples,(n.samples+1):(n.qualia)])\n",
    "    \n",
    "    return(mat)\n",
    "    \n",
    "}"
   ]
  },
  {
   "cell_type": "code",
   "execution_count": 48,
   "metadata": {},
   "outputs": [
    {
     "data": {
      "text/html": [
       "<table>\n",
       "<tbody>\n",
       "\t<tr><td> 6.123032e-17</td><td> 1.000000e+00</td></tr>\n",
       "\t<tr><td>-1.000000e+00</td><td> 1.224606e-16</td></tr>\n",
       "\t<tr><td>-1.836910e-16</td><td>-1.000000e+00</td></tr>\n",
       "\t<tr><td> 1.000000e+00</td><td>-2.449213e-16</td></tr>\n",
       "</tbody>\n",
       "</table>\n"
      ],
      "text/latex": [
       "\\begin{tabular}{ll}\n",
       "\t  6.123032e-17 &  1.000000e+00\\\\\n",
       "\t -1.000000e+00 &  1.224606e-16\\\\\n",
       "\t -1.836910e-16 & -1.000000e+00\\\\\n",
       "\t  1.000000e+00 & -2.449213e-16\\\\\n",
       "\\end{tabular}\n"
      ],
      "text/markdown": [
       "\n",
       "|  6.123032e-17 |  1.000000e+00 |\n",
       "| -1.000000e+00 |  1.224606e-16 |\n",
       "| -1.836910e-16 | -1.000000e+00 |\n",
       "|  1.000000e+00 | -2.449213e-16 |\n",
       "\n"
      ],
      "text/plain": [
       "     [,1]          [,2]         \n",
       "[1,]  6.123032e-17  1.000000e+00\n",
       "[2,] -1.000000e+00  1.224606e-16\n",
       "[3,] -1.836910e-16 -1.000000e+00\n",
       "[4,]  1.000000e+00 -2.449213e-16"
      ]
     },
     "metadata": {},
     "output_type": "display_data"
    },
    {
     "data": {
      "text/html": [
       "<table>\n",
       "<tbody>\n",
       "\t<tr><td>-1.83691e-16 </td><td>-1.000000e+00</td></tr>\n",
       "\t<tr><td> 1.00000e+00 </td><td>-2.449213e-16</td></tr>\n",
       "</tbody>\n",
       "</table>\n"
      ],
      "text/latex": [
       "\\begin{tabular}{ll}\n",
       "\t -1.83691e-16  & -1.000000e+00\\\\\n",
       "\t  1.00000e+00  & -2.449213e-16\\\\\n",
       "\\end{tabular}\n"
      ],
      "text/markdown": [
       "\n",
       "| -1.83691e-16  | -1.000000e+00 |\n",
       "|  1.00000e+00  | -2.449213e-16 |\n",
       "\n"
      ],
      "text/plain": [
       "     [,1]         [,2]         \n",
       "[1,] -1.83691e-16 -1.000000e+00\n",
       "[2,]  1.00000e+00 -2.449213e-16"
      ]
     },
     "metadata": {},
     "output_type": "display_data"
    }
   ],
   "source": [
    "test <- sample.hue.circle(4)\n",
    "test\n",
    "sample.hue.circle(4)[3:4,1:2]"
   ]
  },
  {
   "cell_type": "code",
   "execution_count": 49,
   "metadata": {},
   "outputs": [],
   "source": [
    "# compare all qualia to particular reference qualia\n",
    "dr.cols <- function(n.qualia,v.cols,metric='d.shepard',var=0,diagnose=FALSE){\n",
    "    method <- match.fun(metric) # select the metric of choice\n",
    "    mat <- matrix(,nrow=n.qualia,ncol=n.qualia)  # initialise a matrix\n",
    "    n.samples <- n.qualia/2\n",
    "    dr.max <- method(c(-1,-1),c(1,1)) # Find the maximum possible dissimilarity rating\n",
    "    \n",
    "    points <- sample.hue.circle(n.samples=n.qualia)\n",
    "    \n",
    "    names <- labels(n.qualia,1)\n",
    "    colnames(mat) <- c(names)\n",
    "    rownames(mat) <- c(names)\n",
    "    \n",
    "    if(diagnose){\n",
    "        print(paste('n.qualia',n.qualia))\n",
    "        print(paste('v.cols',v.cols))\n",
    "        print(paste('length v.cols',length(v.cols)))\n",
    "    }\n",
    "    \n",
    "    # get the values\n",
    "    for(col in 1:length(v.cols)){\n",
    "        for(row in 1:n.qualia){\n",
    "            q1 <- points[v.cols[col],1:2]\n",
    "            q2 <- points[row,1:2]\n",
    "            \n",
    "            val <- (method(q1,q2) + noise(var,dr.max))/dr.max # not sure this is calculated correctly, where I should be applying the noise...\n",
    "            if(val > 0){ # no negative dissimilarity values. Needed to avoid noise making this negative\n",
    "                mat[row,v.cols[col]] <- val\n",
    "            } else {\n",
    "                mat[row,v.cols[col]] <- 0\n",
    "            }\n",
    "        }\n",
    "    }\n",
    "    return(mat)\n",
    "}"
   ]
  },
  {
   "cell_type": "code",
   "execution_count": 50,
   "metadata": {},
   "outputs": [
    {
     "ename": "ERROR",
     "evalue": "Error in dr.groups.column(12, v): could not find function \"dr.groups.column\"\n",
     "output_type": "error",
     "traceback": [
      "Error in dr.groups.column(12, v): could not find function \"dr.groups.column\"\nTraceback:\n"
     ]
    }
   ],
   "source": [
    "v <- c(1,2,4)\n",
    "dr.mat.cols <- dr.groups.column(12,v)"
   ]
  },
  {
   "cell_type": "code",
   "execution_count": 51,
   "metadata": {},
   "outputs": [],
   "source": [
    " #dr.groups(sample.groups(6,3),overlap=1,metric='d.shepard',diagnose=TRUE)"
   ]
  },
  {
   "cell_type": "markdown",
   "metadata": {},
   "source": [
    "Let's obtain the similarity ratings from the samples, comparing each quale in Q1 to each quale in Q2 (but not _Q1 to Q1_ or _Q2 to Q2_ )"
   ]
  },
  {
   "cell_type": "code",
   "execution_count": 52,
   "metadata": {},
   "outputs": [
    {
     "ename": "ERROR",
     "evalue": "Error in dr.groups(sample.groups(6, 3), diagnose = FALSE, overlap = 3, : could not find function \"dr.groups\"\n",
     "output_type": "error",
     "traceback": [
      "Error in dr.groups(sample.groups(6, 3), diagnose = FALSE, overlap = 3, : could not find function \"dr.groups\"\nTraceback:\n"
     ]
    }
   ],
   "source": [
    "dr.matrix <- dr.groups(sample.groups(6,3),diagnose=FALSE,overlap=3,metric='d.shepard',var=0.00)"
   ]
  },
  {
   "cell_type": "code",
   "execution_count": 53,
   "metadata": {},
   "outputs": [
    {
     "ename": "ERROR",
     "evalue": "Error in dr.groups.halving(12, metric = \"d.shepard\", var = 0): could not find function \"dr.groups.halving\"\n",
     "output_type": "error",
     "traceback": [
      "Error in dr.groups.halving(12, metric = \"d.shepard\", var = 0): could not find function \"dr.groups.halving\"\nTraceback:\n"
     ]
    }
   ],
   "source": [
    "dr.matrix.half <- dr.groups.halving(12,metric='d.shepard',var=0.00)\n",
    "#dr.matrix.half"
   ]
  },
  {
   "cell_type": "code",
   "execution_count": 54,
   "metadata": {},
   "outputs": [],
   "source": [
    "# generic matrix plot stuff\n",
    "plot.mat <- function(mat, reverse=TRUE, refactor=TRUE,\n",
    "                                  col1='blue',col2='orange',na.col='green',\n",
    "                                  legend.title='value',overall.title='',\n",
    "                                  xlabel='',\n",
    "                                  ylabel='',\n",
    "                                  low.lim=0,up.lim=dr.max*1.5){\n",
    "    \n",
    "    \n",
    "    longData <- melt(mat)\n",
    "    \n",
    "    if(refactor){\n",
    "        #print((longData$Var1))\n",
    "        longData$Var1 <- fct_relevel(longData$Var1, sort)\n",
    "        longData$Var2 <- fct_relevel(longData$Var2, sort)\n",
    "        longData$Var1 <- fct_relevel(longData$Var1, rev)\n",
    "    }\n",
    "    if(reverse){\n",
    "        mat <- mat[nrow(mat):1,]\n",
    "    }\n",
    "    \n",
    "    plot <- ggplot(longData, aes(x = Var2, y=Var1)) + \n",
    "    geom_raster(aes(fill=value)) +\n",
    "    #scale_y_discrete(limits = rev(mat$Var1)) +\n",
    "    scale_fill_gradientn(legend.title,colours = c(col1,col2),\n",
    "                         limits = c(low.lim,up.lim), \n",
    "                         breaks=c(low.lim,0,up.lim),\n",
    "                        na.value=na.col) +\n",
    "    ggtitle(overall.title) + xlab(xlabel) + ylab(ylabel) + theme(axis.text.x = element_text(angle=90, vjust =0.5,hjust=1))\n",
    "\n",
    "    return(plot)\n",
    "}"
   ]
  },
  {
   "cell_type": "code",
   "execution_count": 55,
   "metadata": {},
   "outputs": [
    {
     "ename": "ERROR",
     "evalue": "Error in melt(mat): object 'dr.mat.cols' not found\n",
     "output_type": "error",
     "traceback": [
      "Error in melt(mat): object 'dr.mat.cols' not found\nTraceback:\n",
      "1. plot.mat(dr.mat.cols, low.lim = 0, up.lim = 1.5)",
      "2. melt(mat)   # at line 10 of file <text>"
     ]
    }
   ],
   "source": [
    "#plot.mat(dr.matrix.half,low.lim=0,up.lim=1.5)\n",
    "plot.mat(dr.mat.cols,low.lim=0,up.lim=1.5)"
   ]
  },
  {
   "cell_type": "markdown",
   "metadata": {},
   "source": []
  },
  {
   "cell_type": "markdown",
   "metadata": {},
   "source": [
    "### Interpolate the missing data"
   ]
  },
  {
   "cell_type": "markdown",
   "metadata": {},
   "source": [
    "So far the full dissimilarity matrix is incomplete, as we have only got Q1 to Q2 comparisons, but no (Q1 to Q1) nor (Q2 to Q2). To interpolate these, we're going to try a method Nao suggested based on the correlations between the experiences.  \n",
    "  \n",
    "Specifically, we're going to assume that the dissimilarity between Q1<sub>i</sub> and Q1<sub>j</sub> is defined as the correlation of the vector comprising all the comparisons between Q1<sub>i</sub> and Q2 to the vector comprising all the comparisons between Q1<sub>j</sub> and Q2.   \n",
    "\n",
    "If the data is incomplete, we'll just use the data that we can use and hope for the best."
   ]
  },
  {
   "cell_type": "code",
   "execution_count": 56,
   "metadata": {},
   "outputs": [],
   "source": [
    "# Formula for converting correlation to dissimilarity value\n",
    "cor2dr <- function(correlation,scale){\n",
    "    return(-(correlation-1)/2*scale)\n",
    "}"
   ]
  },
  {
   "cell_type": "code",
   "execution_count": 57,
   "metadata": {},
   "outputs": [],
   "source": [
    "# Formula for converting vector distance to dissimilarity value\n",
    "vec2dist <- function(v1,v2,scale){\n",
    "    dist <- sqrt(sum(v1 - v2)^2)\n",
    "    return(dist*scale)\n",
    "}"
   ]
  },
  {
   "cell_type": "code",
   "execution_count": 58,
   "metadata": {},
   "outputs": [],
   "source": [
    "# Obtain which indices are not NA for both of two vectors\n",
    "check.na <- function(v1,v2){\n",
    "    input <- data.frame(v1,v2)\n",
    "    input$output <- (!(is.na(v1)) & !(is.na(v2)))\n",
    "    return(input$output)\n",
    "}"
   ]
  },
  {
   "cell_type": "code",
   "execution_count": 59,
   "metadata": {},
   "outputs": [],
   "source": [
    "# Interpolate a dissimilarity value based on the correlation between two vectors\n",
    "interpolate <- function(v1,v2,r='pearson',type='correlation',diagnose=FALSE){\n",
    "\n",
    "    input <- data.frame(v1,v2,check.na(v1,v2))\n",
    "    clean <- subset(input, check.na.v1..v2. == TRUE)\n",
    "    \n",
    "    \n",
    "    # choose a max DR to scale by\n",
    "    max.dr <- max(c(max(clean$v1),max(clean$v2)))\n",
    "    \n",
    "    if(type=='correlation'){\n",
    "        r.val <- cor(clean$v1,clean$v2,method=r)\n",
    "        val <- cor2dr(r.val,scale=max.dr)\n",
    "    } else if (type == 'vector'){\n",
    "        val <- vec2dist(clean$v1,clean$v2,scale=max.dr)\n",
    "    }\n",
    "    \n",
    "    if(diagnose){\n",
    "        print(clean) # testing\n",
    "        r.print <- cor2dr(cor(clean$v1,clean$v2,method=r),scale=max.dr)\n",
    "        print(paste('Correlation:',r.print))\n",
    "        v.print <- vec2dist(clean$v1,clean$v2,scale=max.dr)\n",
    "        print(paste('Vector distance:',v.print))\n",
    "    }\n",
    "    \n",
    "    return(val)\n",
    "}"
   ]
  },
  {
   "cell_type": "code",
   "execution_count": 60,
   "metadata": {},
   "outputs": [],
   "source": [
    "# Produce a new matrix with interpolated data. Choose the correlation function of choice\n",
    "interpolate.matrix <- function(matrix,r='pearson',mode='mat',type='correlation',diagnose=FALSE){\n",
    "    output <- matrix(,nrow(matrix),ncol(matrix))\n",
    "    \n",
    "    for(i in (1:nrow(matrix))){\n",
    "        for(j in (1:ncol(matrix))){\n",
    "            if(is.na(matrix[i,j])){\n",
    "                if(mode=='mat'){\n",
    "                    v1 <- na.omit(as.vector(matrix[i,1:nrow(matrix)]))\n",
    "                    v2 <- na.omit(as.vector(matrix[j,1:nrow(matrix)]))\n",
    "                } else {\n",
    "                    v1 <- as.vector(matrix[i,1:nrow(matrix)])\n",
    "                    v2 <- as.vector(matrix[j,1:nrow(matrix)])\n",
    "                }\n",
    "                \n",
    "                \n",
    "                vals <- na.omit(c(v1,v2))\n",
    "                #max.dr <- max(vals) # grab the maximum dissimilarity value for a scaling constant\n",
    "                \n",
    "                output[i,j] <- interpolate(v1,v2,type=type,diagnose=diagnose)\n",
    "            } else {\n",
    "                output[i,j] <- matrix[i,j]\n",
    "            }\n",
    "        }\n",
    "    }\n",
    "    colnames(output) <- colnames(matrix)\n",
    "    rownames(output) <- rownames(matrix)\n",
    "    return(output)\n",
    "}"
   ]
  },
  {
   "cell_type": "code",
   "execution_count": 61,
   "metadata": {},
   "outputs": [
    {
     "ename": "ERROR",
     "evalue": "Error in interpolate.matrix(dr.mat.cols, mode = \"other\", type = \"correlation\"): object 'dr.mat.cols' not found\n",
     "output_type": "error",
     "traceback": [
      "Error in interpolate.matrix(dr.mat.cols, mode = \"other\", type = \"correlation\"): object 'dr.mat.cols' not found\nTraceback:\n",
      "1. interpolate.matrix(dr.mat.cols, mode = \"other\", type = \"correlation\")"
     ]
    }
   ],
   "source": [
    "#dr.interpolated.v <- interpolate.matrix(dr.matrix,type='vector')\n",
    "#dr.interpolated.r <- interpolate.matrix(dr.matrix,mode='other',type='correlation')\n",
    "dr.interpolated.r <- interpolate.matrix(dr.mat.cols,mode='other',type='correlation')"
   ]
  },
  {
   "cell_type": "code",
   "execution_count": 62,
   "metadata": {},
   "outputs": [
    {
     "ename": "ERROR",
     "evalue": "Error in melt(mat): object 'dr.interpolated.r' not found\n",
     "output_type": "error",
     "traceback": [
      "Error in melt(mat): object 'dr.interpolated.r' not found\nTraceback:\n",
      "1. plot.mat(dr.interpolated.r)",
      "2. melt(mat)   # at line 10 of file <text>"
     ]
    }
   ],
   "source": [
    "plot.mat(dr.interpolated.r)\n",
    "#plot.mat(dr.interpolated.v)"
   ]
  },
  {
   "cell_type": "markdown",
   "metadata": {},
   "source": [
    "### Try and reconstruct the phenomenological space"
   ]
  },
  {
   "cell_type": "markdown",
   "metadata": {},
   "source": [
    "Now that we have a full dissimilarity matrix comprised of original and interpolated data, we will try and see if we can reconstruct the phenomenological space from this matrix."
   ]
  },
  {
   "cell_type": "code",
   "execution_count": 70,
   "metadata": {},
   "outputs": [],
   "source": [
    "# plot an MDS fit\n",
    "cmdsplot <- function(dr.int,n.groups,k=2,var=0){\n",
    "    \n",
    "    #print(n.qualia) # testing\n",
    "    n.qualia <- nrow(dr.int)\n",
    "    #print(dr.matrix)\n",
    "    #dr.int <- interpolate.matrix(dr.matrix,method='pearson')\n",
    "    #print(dr.int) # testing\n",
    "    fit <- cmdscale(dr.int,k) # do the MDS   \n",
    "    fit <- as.data.frame(fit)\n",
    "    \n",
    "    colors <- colors(n.qualia,n.groups)\n",
    "    labels <- labels(n.qualia,n.groups)\n",
    "    \n",
    "    plot <-     ggplot(fit, aes(x = V1, y = V2, color=colors)) + geom_point(size =10) + \n",
    "                geom_text(aes(label=labels, vjust=-2)) +\n",
    "                xlab(\"Dimension 1\") + ylab(\"Dimension 2\") + \n",
    "                ggtitle((paste('Classical MDS - ','SD = ',var,'*','(MAX DR)',sep=''))) + \n",
    "                theme(legend.position='none') +scale_colour_identity()\n",
    "    \n",
    "    return(plot)\n",
    "}"
   ]
  },
  {
   "cell_type": "markdown",
   "metadata": {},
   "source": [
    "Let's see what it looks like on the full dissimilarity matrix"
   ]
  },
  {
   "cell_type": "code",
   "execution_count": 64,
   "metadata": {},
   "outputs": [
    {
     "ename": "ERROR",
     "evalue": "Error in nrow(dr.int): object 'dr.interpolated.r' not found\n",
     "output_type": "error",
     "traceback": [
      "Error in nrow(dr.int): object 'dr.interpolated.r' not found\nTraceback:\n",
      "1. cmdsplot(dr.interpolated.r, n.groups = 1, var = 0)",
      "2. nrow(dr.int)   # at line 5 of file <text>"
     ]
    }
   ],
   "source": [
    "interpolate.plot <- cmdsplot(dr.interpolated.r,n.groups=1,var=0.00)\n",
    "interpolate.plot"
   ]
  },
  {
   "cell_type": "markdown",
   "metadata": {},
   "source": [
    "Let's compare this to the original phenomenological space"
   ]
  },
  {
   "cell_type": "code",
   "execution_count": 65,
   "metadata": {},
   "outputs": [],
   "source": [
    "# compare the phenomenological space to the cmds\n",
    "compare.plots <- function(qspace.plot,interpolate.plot){\n",
    "    grob <- arrangeGrob(qspace.plot,interpolate.plot,\n",
    "                       nrow = 1, ncol = 2)\n",
    "}"
   ]
  },
  {
   "cell_type": "code",
   "execution_count": 66,
   "metadata": {},
   "outputs": [
    {
     "ename": "ERROR",
     "evalue": "Error in arrangeGrob(qspace.plot, interpolate.plot, nrow = 1, ncol = 2): object 'interpolate.plot' not found\n",
     "output_type": "error",
     "traceback": [
      "Error in arrangeGrob(qspace.plot, interpolate.plot, nrow = 1, ncol = 2): object 'interpolate.plot' not found\nTraceback:\n",
      "1. compare.plots(qspace.plot, interpolate.plot)",
      "2. arrangeGrob(qspace.plot, interpolate.plot, nrow = 1, ncol = 2)   # at line 3-4 of file <text>"
     ]
    }
   ],
   "source": [
    "compare <- compare.plots(qspace.plot, interpolate.plot)\n",
    "grid.arrange(compare)"
   ]
  },
  {
   "cell_type": "code",
   "execution_count": 72,
   "metadata": {},
   "outputs": [
    {
     "name": "stderr",
     "output_type": "stream",
     "text": [
      "Warning message in brewer.pal(n.groups, \"Set1\"):\n",
      "\"minimal value for n is 3, returning requested palette with 3 different levels\n",
      "\""
     ]
    },
    {
     "data": {
      "image/png": "[encoded data removed]",
      "text/plain": [
       "plot without title"
      ]
     },
     "metadata": {},
     "output_type": "display_data"
    },
    {
     "data": {
      "image/png": "[encoded data removed]",
      "text/plain": [
       "plot without title"
      ]
     },
     "metadata": {},
     "output_type": "display_data"
    },
    {
     "data": {
      "image/png": "[encoded data removed]",
      "text/plain": [
       "plot without title"
      ]
     },
     "metadata": {},
     "output_type": "display_data"
    },
    {
     "name": "stderr",
     "output_type": "stream",
     "text": [
      "Warning message in brewer.pal(n.groups, \"Set1\"):\n",
      "\"minimal value for n is 3, returning requested palette with 3 different levels\n",
      "\""
     ]
    },
    {
     "data": {
      "image/png": "[encoded data removed]",
      "text/plain": [
       "plot without title"
      ]
     },
     "metadata": {},
     "output_type": "display_data"
    },
    {
     "data": {
      "image/png": "[encoded data removed]",
      "text/plain": [
       "plot without title"
      ]
     },
     "metadata": {},
     "output_type": "display_data"
    }
   ],
   "source": [
    "# just doing everyting all at once for presentation purposes\n",
    "qualia <- 24\n",
    "groups <- 2\n",
    "overlap <- 12\n",
    "qspace.plot <- sample.plot(sample.groups(qualia,groups),qualia,groups)\n",
    "qspace.plot\n",
    "\n",
    "# specify the matrix type\n",
    "#dr.matrix <- dr.overlap(sample.groups(qualia,groups),diagnose=FALSE,overlap=overlap,metric='d.shepard',var=0.00)\n",
    "dr.matrix <- dr.half(24)\n",
    "#dr.matrix <- dr.every.other(24)\n",
    "v <- c(1,5,9,13,17,21)\n",
    "#dr.matrix <- dr.cols(qualia,v)\n",
    "\n",
    "plot.mat(dr.matrix,low.lim=0,up.lim=1.5, refactor=FALSE, reverse=TRUE)\n",
    "plot.mat(dr.matrix,low.lim=0,up.lim=1.5)\n",
    "dr.interpolated.r <- interpolate.matrix(dr.matrix,mode='other',type='correlation')\n",
    "plot.mat(dr.interpolated.r)\n",
    "\n",
    "#interpolate.plot <- cmdsplot(dr.interpolated.r,n.groups=groups,var=0.00)\n",
    "interpolate.plot <- cmdsplot(dr.interpolated.r,n.groups=2,var=0.00)\n",
    "\n",
    "interpolate.plot"
   ]
  },
  {
   "cell_type": "markdown",
   "metadata": {},
   "source": [
    "### Putting everything together in one go"
   ]
  },
  {
   "cell_type": "code",
   "execution_count": 172,
   "metadata": {},
   "outputs": [],
   "source": [
    "test <- function(n=9,var=0){\n",
    "    Q1 <- sample.hue.circle(n.samples=n)\n",
    "    Q2 <- sample.hue.circle(n.samples=n, offset=0.5)\n",
    "    qspace.plot <- sample.plot(Q1,Q2)\n",
    "    interpolate.plot <- cmdsplot(Q1,Q2,n.qualia=n,k=2,var=var)\n",
    "    compare <- compare.plots(qspace.plot, interpolate.plot)\n",
    "    grid.arrange(compare)\n",
    "}\n"
   ]
  },
  {
   "cell_type": "code",
   "execution_count": 173,
   "metadata": {},
   "outputs": [],
   "source": [
    "#test(8,var=0.5)"
   ]
  },
  {
   "cell_type": "code",
   "execution_count": 213,
   "metadata": {},
   "outputs": [],
   "source": [
    "# make a demonstration plot\n",
    "demo.plot <- function(type='correlation',diagnose=FALSE){\n",
    "    \n",
    "    stim.list <- c(3,4,8,12)\n",
    "    noise.list <- c(0.01,0.05,0.1)\n",
    "\n",
    "    \n",
    "    k = 1 # counter\n",
    "    plot_list <- list() # list to store the plots in as we're making them\n",
    "    \n",
    "    for(stim in stim.list){\n",
    "        print(k) # testing\n",
    "        Q1 <- sample.hue.circle(n.samples=stim)\n",
    "        Q2 <- sample.hue.circle(n.samples=stim, offset=0.5)\n",
    "        qspace.plot <- sample.plot(Q1,Q2)\n",
    "        plot_list[[k]] <- as.grob(qspace.plot)\n",
    "        k = k + 1   \n",
    "                      \n",
    "        for(noise in noise.list){\n",
    "            dr.matrix <- dr(n.samples=stim,Q2,Q1,metric=d.shepard,var=noise)\n",
    "            plot_list[[k]] <- as.grob(plot.mat(dr.matrix,overall.title='Original Data'))\n",
    "            k = k + 1\n",
    "            \n",
    "            dr.int <- interpolate.matrix(dr.matrix,type=type,diagnose=diagnose)\n",
    "            #print(dr.int)\n",
    "            plot_list[[k]] <- as.grob(plot.mat(dr.int,overall.title='Interpolated'))\n",
    "            k = k+1\n",
    "            \n",
    "            interpolate.plot <- cmdsplot(dr.int,var=noise,Q1=Q1,Q2=Q2)\n",
    "            plot_list[[k]] <- as.grob(interpolate.plot)\n",
    "            k = k+1\n",
    "        }        \n",
    "    }\n",
    "    g <- arrangeGrob(grobs = plot_list, ncol = length(noise.list)*3+1, nrow = length(stim.list))\n",
    "    ggsave(paste('Demo',type,'.png'),g,height=25,width=49)\n",
    "}"
   ]
  },
  {
   "cell_type": "code",
   "execution_count": 204,
   "metadata": {},
   "outputs": [
    {
     "data": {
      "text/html": [
       "0.026"
      ],
      "text/latex": [
       "0.026"
      ],
      "text/markdown": [
       "0.026"
      ],
      "text/plain": [
       "[1] 0.026"
      ]
     },
     "metadata": {},
     "output_type": "display_data"
    },
    {
     "data": {
      "text/html": [
       "0.012818"
      ],
      "text/latex": [
       "0.012818"
      ],
      "text/markdown": [
       "0.012818"
      ],
      "text/plain": [
       "[1] 0.012818"
      ]
     },
     "metadata": {},
     "output_type": "display_data"
    },
    {
     "data": {
      "text/html": [
       "0.79549335692656"
      ],
      "text/latex": [
       "0.79549335692656"
      ],
      "text/markdown": [
       "0.79549335692656"
      ],
      "text/plain": [
       "[1] 0.7954934"
      ]
     },
     "metadata": {},
     "output_type": "display_data"
    }
   ],
   "source": [
    "v1 <- c(0.147, 0.159, 0.483)\n",
    "v2 <- c(0.493, 0.166,0.156)\n",
    "dist <- sqrt(sum(v1 - v2)^2)\n",
    "r <- cor(v1,v2)\n",
    "dist\n",
    "m<- max(c(max(v1),max(v2)))\n",
    "dist/1*m\n",
    "-(r-1/2*m)"
   ]
  },
  {
   "cell_type": "code",
   "execution_count": 223,
   "metadata": {},
   "outputs": [
    {
     "name": "stdout",
     "output_type": "stream",
     "text": [
      "[1] 1\n",
      "[1] 11\n",
      "[1] 21\n",
      "[1] 31\n",
      "[1] 1\n",
      "[1] 11\n",
      "[1] 21\n",
      "[1] 31\n"
     ]
    }
   ],
   "source": [
    "demo.plot(type='vector',diagnose=FALSE)\n",
    "demo.plot(type='correlation')"
   ]
  },
  {
   "cell_type": "markdown",
   "metadata": {},
   "source": [
    "#### Interpolation stuff for Nao's DP Grant"
   ]
  },
  {
   "cell_type": "code",
   "execution_count": 439,
   "metadata": {},
   "outputs": [],
   "source": [
    "weird.mat <- as.matrix(read.table(\"weird.Rdata\"))"
   ]
  },
  {
   "cell_type": "code",
   "execution_count": 440,
   "metadata": {},
   "outputs": [
    {
     "data": {
      "image/png": "[encoded data removed]",
      "text/plain": [
       "plot without title"
      ]
     },
     "metadata": {},
     "output_type": "display_data"
    }
   ],
   "source": [
    "plot.mat(weird.mat,low.lim=0,up.lim=7,\n",
    "        xlabel = 'Foveal                   Peripheral',\n",
    "        ylabel = 'Peripheral               Foveal')"
   ]
  },
  {
   "cell_type": "code",
   "execution_count": 441,
   "metadata": {},
   "outputs": [],
   "source": [
    "# make an expanded matrix from a smaller one\n",
    "expand.mat <- function(mat){\n",
    "    out.mat <- matrix(,nrow(mat)*2,ncol(mat)*2)\n",
    "    n.row <- nrow(mat)\n",
    "    n.col <- ncol(mat)\n",
    "    n.col.1 <- n.col+1\n",
    "    n.col_2 <- n.col*2\n",
    "\n",
    "    out.mat[ 1 : nrow(mat) , n.col.1 : n.col_2 ] <- mat\n",
    "    out.mat[ (nrow(mat)+1):(nrow(mat)*2) , 1:ncol(mat) ] <- mat\n",
    "    return(out.mat)\n",
    "}"
   ]
  },
  {
   "cell_type": "code",
   "execution_count": 442,
   "metadata": {},
   "outputs": [],
   "source": [
    "duplicate.mat <- expand.mat(weird.mat)"
   ]
  },
  {
   "cell_type": "code",
   "execution_count": 444,
   "metadata": {},
   "outputs": [
    {
     "data": {
      "image/png": "[encoded data removed]",
      "text/plain": [
       "plot without title"
      ]
     },
     "metadata": {},
     "output_type": "display_data"
    }
   ],
   "source": [
    "plot.mat(duplicate.mat,low.lim=0,up.lim=7,refactor=FALSE,\n",
    "        xlabel = 'Foveal              Peripheral                 Foveal           Peripheral',\n",
    "        ylabel = 'Peripheral            Foveal                 Peripheral           Foveal')"
   ]
  },
  {
   "cell_type": "code",
   "execution_count": 446,
   "metadata": {},
   "outputs": [],
   "source": [
    "\n",
    "weird.int <- interpolate.matrix(duplicate.mat,mode='mat')"
   ]
  },
  {
   "cell_type": "code",
   "execution_count": 448,
   "metadata": {},
   "outputs": [
    {
     "data": {
      "image/png": "[encoded data removed]",
      "text/plain": [
       "plot without title"
      ]
     },
     "metadata": {},
     "output_type": "display_data"
    }
   ],
   "source": [
    "\n",
    "plot.mat(weird.int,low.lim=0,up.lim=7, reverse=FALSE, refactor=FALSE,\n",
    "        xlabel = 'Foveal              Peripheral                 Foveal           Peripheral',\n",
    "        ylabel = 'Peripheral            Foveal                 Peripheral           Foveal')"
   ]
  },
  {
   "cell_type": "code",
   "execution_count": 449,
   "metadata": {},
   "outputs": [],
   "source": [
    "fit <- cmdscale(weird.int,2)\n",
    "fit <- as.data.frame(fit)\n"
   ]
  },
  {
   "cell_type": "code",
   "execution_count": 450,
   "metadata": {},
   "outputs": [],
   "source": [
    "colors <- c(rep('#FFFFB3',9),rep('\"#BEBADA',9),rep('#FFFFB3',9),rep('\"#BEBADA',9))\n",
    "black <- c(rep('#000000',36))\n",
    "rainbow <- c('#FF0000','#FFAA00','#AAFF00','#00FF00','#00FFA9',\"#00A9FF\",'#0000FF','#AA00FF',\"#FF00AA\")\n",
    "colors2 <- c('#FF0000','#FFAA00','#AAFF00','#00FF00','#00FFA9',\"#00A9FF\",'#0000FF','#AA00FF',\"#FF00AA\",'#990000','#99AA00','#669900','#009900','#009965',\"#006599\",'#000099','#660099',\"#990066\")\n",
    "colors3 <- c(colors2,colors2)\n",
    "colors4 <- c(rainbow,rep('000000',9))\n",
    "colors6 <- c(rep(\"000000\",9),rainbow)\n",
    "colors7 <- c(colors6,colors6)\n",
    "#colors\n",
    "colors5 <- c(colors4,colors4)\n",
    "#colors5\n",
    "colors8 <- c(rainbow,rainbow,rainbow,rainbow)\n",
    "tags <- c(rep('Central',9),rep('Peripheral',9),rep('Central',9),rep('Peripheral',9))\n",
    "tags2 <- colors8"
   ]
  },
  {
   "cell_type": "code",
   "execution_count": 451,
   "metadata": {},
   "outputs": [],
   "source": [
    "#fit2 <- fit[with(fit, order(V1)),]"
   ]
  },
  {
   "cell_type": "code",
   "execution_count": 452,
   "metadata": {},
   "outputs": [
    {
     "data": {
      "text/html": [
       "'character'"
      ],
      "text/latex": [
       "'character'"
      ],
      "text/markdown": [
       "'character'"
      ],
      "text/plain": [
       "[1] \"character\""
      ]
     },
     "metadata": {},
     "output_type": "display_data"
    }
   ],
   "source": [
    "class(colors7)"
   ]
  },
  {
   "cell_type": "code",
   "execution_count": 453,
   "metadata": {},
   "outputs": [
    {
     "data": {
      "image/png": "[encoded data removed]",
      "text/plain": [
       "plot without title"
      ]
     },
     "metadata": {},
     "output_type": "display_data"
    }
   ],
   "source": [
    "plot <-     ggplot(fit, aes(x = V1, y = V2, color=colors8)) + geom_point(size =10) + \n",
    "                geom_text(aes(label=tags, vjust=-2)) +\n",
    "                xlab(\"Dimension 1\") + ylab(\"Dimension 2\") + \n",
    "                ggtitle('Classical MDS') + \n",
    "                theme(legend.position='none') +\n",
    "                scale_colour_identity()\n",
    "plot"
   ]
  },
  {
   "cell_type": "markdown",
   "metadata": {},
   "source": [
    "### Testing Rank Structure Stuff"
   ]
  },
  {
   "cell_type": "markdown",
   "metadata": {},
   "source": [
    "Shouldn't be copy-pasting code, fix this please"
   ]
  },
  {
   "cell_type": "code",
   "execution_count": 219,
   "metadata": {},
   "outputs": [],
   "source": [
    "# test for rank order violation given two values\n",
    "rank.obtain <- function(vals,invert=FALSE){\n",
    "    if(vals[1] < vals[2]){ # d(x,y) < d(y,z)\n",
    "        rank = -1\n",
    "    } else if (vals[1] == vals[2]){ # d(x,y) = d(y,z)\n",
    "        rank = 0\n",
    "    } else if (vals[1] > vals[2]){ # d(x,y) > d(y,z)\n",
    "        rank = 1\n",
    "    }\n",
    "    if(invert){\n",
    "        return(-rank)\n",
    "    }\n",
    "    return(rank)\n",
    "}"
   ]
  },
  {
   "cell_type": "code",
   "execution_count": 220,
   "metadata": {},
   "outputs": [],
   "source": [
    "# obtain a set of rank-order matrices within-subject\n",
    "rank.mat.obtain <- function(mat){\n",
    "    n.stim <- nrow(mat)\n",
    "    mat.list <- list()\n",
    "    for(i in 1:(n.stim)){ # y = i\n",
    "        rank.mat <- matrix(,nrow(mat),ncol(mat))\n",
    "        for(j in 1:(n.stim)){ # x = j\n",
    "            for(k in 1:(n.stim)){ # z = k                \n",
    "                d.xy <- mat[j,i]\n",
    "                d.yz <- mat[i,k]\n",
    "                vals <- c(d.xy, d.yz)\n",
    "                if( (j==i) | (k==i) ){\n",
    "                    rank <- NA\n",
    "                } else {\n",
    "                    rank <- rank.obtain(vals)\n",
    "                }\n",
    "                rank.mat[j,k] <- rank # y = i, place value in a x * z matrix\n",
    "            }\n",
    "        }\n",
    "        mat.list[[i]] <- rank.mat # y = i, full x * z matrix\n",
    "    }\n",
    "    return(mat.list)\n",
    "}"
   ]
  },
  {
   "cell_type": "code",
   "execution_count": 221,
   "metadata": {},
   "outputs": [],
   "source": [
    "# generic matrix plot stuff\n",
    "plot.rank.mat.generic <- function(mat){\n",
    "    \n",
    "    longData <- melt(mat)\n",
    "    \n",
    "    plot <- ggplot(longData, aes(x = Var2, y=Var1)) + \n",
    "    geom_raster(aes(fill=value)) +\n",
    "    scale_fill_gradientn(colours = c('blue','yellow'),\n",
    "                         limits = c(-1,1), \n",
    "                         breaks=c(-1,0,1),\n",
    "                        na.value='green')\n",
    "\n",
    "    return(plot)\n",
    "}"
   ]
  },
  {
   "cell_type": "code",
   "execution_count": 222,
   "metadata": {},
   "outputs": [],
   "source": [
    "# plot a set of rank-order matrices\n",
    "rank.mat.plot.set <- function(mat.list){\n",
    "    k = 1 # counter\n",
    "    plot_list <- list()\n",
    "    \n",
    "    for(mat in mat.list){\n",
    "        graph <- plot.rank.mat.generic(mat)\n",
    "        plot_list[[k]] <- as.grob(graph)\n",
    "        k = k + 1\n",
    "    }\n",
    "    g <- arrangeGrob(grobs = plot_list, ncol = 9, nrow = 2)\n",
    "    ggsave('rank_mat_plots_demo.png',g,height=8,width=39)\n",
    "}"
   ]
  },
  {
   "cell_type": "code",
   "execution_count": 256,
   "metadata": {},
   "outputs": [],
   "source": [
    "# take a set of rank matrices, flatten into one giant matrix\n",
    "flatten <- function(mat.list){\n",
    "    n.mats <- length(mat.list)\n",
    "    x <- sqrt(n.mats)\n",
    "    n.elements <- n.mats*n.mats\n",
    "    flat.mat <- matrix(,n.mats*ceiling(x),n.mats*floor(x))  \n",
    "   \n",
    "    count = 1\n",
    "    \n",
    "    for(i in 1:ceiling(x)){\n",
    "        for(j in 1:floor(x)){\n",
    "\n",
    "            if(count <= length(mat.list)){\n",
    "                flat.mat[((i*n.mats)-(n.mats-1)):((i*n.mats)) , ((j*n.mats)-(n.mats-1)):((j*n.mats))] <- mat.list[[count]]\n",
    "                count = count + 1\n",
    "            }\n",
    "            \n",
    "        }\n",
    "    }\n",
    "    \n",
    "    return(flat.mat)\n",
    "}"
   ]
  },
  {
   "cell_type": "code",
   "execution_count": 257,
   "metadata": {},
   "outputs": [
    {
     "data": {
      "image/png": "[encoded data removed]",
      "text/plain": [
       "plot without title"
      ]
     },
     "metadata": {},
     "output_type": "display_data"
    }
   ],
   "source": [
    "# testing stuff\n",
    "testmat <- rank.mat.obtain(dr.interpolated)\n",
    "#rank.mat.plot.set(testmat)\n",
    "flat <- flatten(testmat)\n",
    "plot.rank.mat.generic(flat)"
   ]
  },
  {
   "cell_type": "code",
   "execution_count": 253,
   "metadata": {},
   "outputs": [],
   "source": [
    "# get a list of the flattened matrices for each subject\n",
    "bs.flat.list <- function(n,var,comparison='CC',n.qualia=n.qualia){\n",
    "    output <- list()\n",
    "    k = 1\n",
    "    for(ID in 1:n){\n",
    "        \n",
    "        dr.matrix <- dr(n.samples=n.qualia,Q2,Q1,metric=d.shepard,var=var)\n",
    "        dr.int <- interpolate.matrix(dr.matrix,method='pearson')\n",
    "        \n",
    "        rankmat <- rank.mat.obtain(dr.int)\n",
    "        flatmat <- flatten(rankmat)\n",
    "        #print(flatmat[1:10,1:10]) # testing\n",
    "        output[[k]] <- flatmat\n",
    "        k = k+1\n",
    "    }\n",
    "    return(output)\n",
    "}"
   ]
  },
  {
   "cell_type": "code",
   "execution_count": 169,
   "metadata": {},
   "outputs": [],
   "source": [
    "# check whether cell values in a list of flattened matrices are statistically non-zero\n",
    "flat.zero.test <- function(flat.list, mu = 0, threshold = 0.05, test.mat=FALSE){\n",
    "    count.non.zero = 0\n",
    "    count.cells = 0\n",
    "    output.vec <- vector()\n",
    "    for (i in 1:length(flat.list[[1]])){ # all the cells\n",
    "        cell.vals <- vector()\n",
    "        for (j in 1:length(flat.list)){ # all the matrices\n",
    "            cell.vals <- c(cell.vals,flat.list[[j]][i])\n",
    "        }\n",
    "        if(!all(is.na(cell.vals))){\n",
    "            count.cells = count.cells + 1\n",
    "            test <- wilcox.test(cell.vals, mu = 0, alternative = \"two.sided\",exact=FALSE)\n",
    "            non.zero <- (test$p.value < threshold)\n",
    "            if(is.na(non.zero)){ # is this appropriate? Do we count the main diagonal?\n",
    "                non.zero <- FALSE\n",
    "            }\n",
    "            if(non.zero){\n",
    "                count.non.zero = count.non.zero + 1\n",
    "            }\n",
    "            if(test.mat){\n",
    "                output.vec <- c(output.vec,non.zero)\n",
    "            }\n",
    "        } else {\n",
    "            output.vec <- c(output.vec,NA)\n",
    "        }\n",
    "        \n",
    "    }\n",
    "    if(test.mat){\n",
    "        output.mat <- matrix(output.vec,nrow(flat.list[[1]]),ncol(flat.list[[1]]))\n",
    "        return(output.mat)\n",
    "    }\n",
    "    return(count.non.zero/count.cells)\n",
    "}"
   ]
  },
  {
   "cell_type": "code",
   "execution_count": 182,
   "metadata": {},
   "outputs": [],
   "source": [
    "# plot a group of flat matrices\n",
    "flat.group.plot <- function(n,n.qualia,var){\n",
    "    subject.list <- bs.flat.list(n=n,var=var,comparison='BLAH',n.qualia=n.qualia)\n",
    "    k = 1 # counter\n",
    "    plot_list <- list()\n",
    "    for(subject in 1:length(subject.list)){\n",
    "        graph <- plot.rank.mat.generic(subject.list[[subject]])\n",
    "        plot_list[[k]] <- as.grob(graph)\n",
    "        k = k + 1\n",
    "    }\n",
    "    # add a group average plot\n",
    "    group.average <- Reduce('+',subject.list)/length(subject.list)\n",
    "    group.average.plot <- plot.rank.mat.generic(group.average)\n",
    "    plot_list[[k]] <- as.grob(group.average.plot)\n",
    "    k = k + 1\n",
    "    \n",
    "    # add a proportion plot\n",
    "    non.zero.pr <- flat.zero.test(subject.list)\n",
    "    plot_list[[k]] <- as.grob(proportion(non.zero.pr))\n",
    "    \n",
    "    label <- paste(\"Qualia - \",n.qualia,\"Noise SD - \",var)\n",
    "    title <- textGrob(label, gp=gpar(fontsize=35))\n",
    "    x <- round(sqrt(k)) + 1\n",
    "    g <- arrangeGrob(grobs = plot_list, ncol = x, nrow=x, top=title)\n",
    "    ggsave(paste(label,'.png'),\n",
    "           g,height=x*4,width=x*4)\n",
    "}"
   ]
  },
  {
   "cell_type": "code",
   "execution_count": 178,
   "metadata": {},
   "outputs": [],
   "source": [
    "# proportion plot\n",
    "proportion <- function(pr){\n",
    "    prop <- 100*pr\n",
    "    non.prop <- 100-prop\n",
    "    vec <- c(prop,non.prop)\n",
    "    #labels <- c('Non-zero','Zero')\n",
    "    labels <- c(paste('Non-zero:',round(prop,1)),paste('Zero: ',round(non.prop,1)))\n",
    "    df <- data.frame(\n",
    "        group = labels, value = c(prop,non.prop))\n",
    "    plot <- ggplot(df, aes(x=\"\", y=value, fill=group)) + geom_bar(width=1, stat= 'identity') +\n",
    "        xlab(\"\") + ylab(\"Proportion Non-zero (nonparametric, p < 0.05)\")\n",
    "    return(plot)\n",
    "}"
   ]
  },
  {
   "cell_type": "code",
   "execution_count": 258,
   "metadata": {},
   "outputs": [
    {
     "ename": "ERROR",
     "evalue": "Error in Q2[j, 1:2]: subscript out of bounds\n",
     "output_type": "error",
     "traceback": [
      "Error in Q2[j, 1:2]: subscript out of bounds\nTraceback:\n",
      "1. flat.group.plot(n = 10, var = 0.25, n.qualia = 16)",
      "2. bs.flat.list(n = n, var = var, comparison = \"BLAH\", n.qualia = n.qualia)   # at line 3 of file <text>",
      "3. dr(n.samples = n.qualia, Q2, Q1, metric = d.shepard, var = var)   # at line 7 of file <text>"
     ]
    }
   ],
   "source": [
    "flat.group.plot(n=10,var=0.25,n.qualia=16)"
   ]
  },
  {
   "cell_type": "code",
   "execution_count": null,
   "metadata": {},
   "outputs": [],
   "source": []
  }
 ],
 "metadata": {
  "kernelspec": {
   "display_name": "R",
   "language": "R",
   "name": "ir"
  },
  "language_info": {
   "codemirror_mode": "r",
   "file_extension": ".r",
   "mimetype": "text/x-r-source",
   "name": "R",
   "pygments_lexer": "r",
   "version": "3.6.1"
  }
 },
 "nbformat": 4,
 "nbformat_minor": 4
}
