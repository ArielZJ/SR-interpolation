{
 "cells": [
  {
   "cell_type": "markdown",
   "metadata": {},
   "source": [
    "## Similiarity Rating Interpolation Project"
   ]
  },
  {
   "cell_type": "markdown",
   "metadata": {},
   "source": [
    "_Written by Ariel Zeleznikow-Johnston  \n",
    "ariel.zeleznikow-johnston@monash.edu  \n",
    "Last updated 11-Nov-2020_"
   ]
  },
  {
   "cell_type": "markdown",
   "metadata": {},
   "source": [
    "This project is an attempt to simulate similarity rating interpolations from incomplete data. The aim of this part of the project is to see if a colour hue circle in phenomenological space can be ascertained from incomplete comparisons of samples within that space, given different similarity rating generation metrics"
   ]
  },
  {
   "cell_type": "code",
   "execution_count": 43,
   "metadata": {},
   "outputs": [],
   "source": [
    "# libraries\n",
    "library(MASS) # for MDS\n",
    "library(ggplot2) # for plotting\n",
    "library(RColorBrewer) # for colour scales in plots\n",
    "library(gridExtra) # for merging plots\n",
    "library(grid) # for merging plots\n",
    "library(ggplotify) # for merging plots\n",
    "library(reshape2)# for messing with data"
   ]
  },
  {
   "cell_type": "code",
   "execution_count": 2,
   "metadata": {},
   "outputs": [],
   "source": [
    "# Define some constants\n",
    "n.dim = 2\n",
    "radius = 1\n",
    "dr.max = 1\n",
    "dr.min = 0\n",
    "exp.const = 2\n",
    "n.qualia=5"
   ]
  },
  {
   "cell_type": "markdown",
   "metadata": {},
   "source": [
    "### The phenomenological space"
   ]
  },
  {
   "cell_type": "markdown",
   "metadata": {},
   "source": [
    "First, we need to define the space from which we're going to try and obtain similarity ratings. For current purposes, we're going to define an isoluminant maximally-saturated hue circle as a unit circle in a metric space of R<sup>2</sup>"
   ]
  },
  {
   "cell_type": "code",
   "execution_count": 3,
   "metadata": {},
   "outputs": [],
   "source": [
    "# Polar to cartesian \n",
    "pol2cart <- function(radius,angle){\n",
    "    x <- radius*cos(angle)\n",
    "    y <- radius*sin(angle)\n",
    "    return(c(x,y))\n",
    "}"
   ]
  },
  {
   "cell_type": "code",
   "execution_count": 4,
   "metadata": {},
   "outputs": [],
   "source": [
    "# Get samples from the hue circle\n",
    "sample.hue.circle <- function(n.samples, distribution='uniform',offset=0, format='cartesian'){\n",
    "    output <- matrix(, nrow = n.samples, ncol = n.dim) # initialise the output matrix\n",
    "    \n",
    "    # obtain the samples\n",
    "    interval.angle <- 2*pi/n.samples\n",
    "    for(i in (1:n.samples)){\n",
    "        theta <- i*interval.angle + offset*interval.angle\n",
    "        if(format == 'cartesian'){\n",
    "            output[i,1:2] <- pol2cart(radius,theta)\n",
    "        } else if (format == 'polar'){\n",
    "            output[i,1:2] <- c(radius,theta)\n",
    "        }\n",
    "    }\n",
    "    return(output)\n",
    "}"
   ]
  },
  {
   "cell_type": "code",
   "execution_count": 5,
   "metadata": {},
   "outputs": [],
   "source": [
    "# colour the plot appropriately\n",
    "colors <- function(Q1,Q2){\n",
    "    \n",
    "    n.Q1 <- nrow(Q1)\n",
    "    n.Q2 <- nrow(Q2)\n",
    "    \n",
    "    #colors.Q1 <- brewer.pal(n.Q1,'Greens')\n",
    "    colors.Q1 <- rep('#FFFFB3',n.Q1)\n",
    "    #colors.Q2 <- brewer.pal(n.Q2,'PuRd')\n",
    "    colors.Q2 <- rep('\"#BEBADA',n.Q2)\n",
    "    \n",
    "    return(c(colors.Q1,colors.Q2))\n",
    "}"
   ]
  },
  {
   "cell_type": "code",
   "execution_count": 6,
   "metadata": {},
   "outputs": [],
   "source": [
    "# label the plot points appropriately\n",
    "labels <- function(Q1,Q2){\n",
    "    n.Q1 <- nrow(Q1)\n",
    "    n.Q2 <- nrow(Q2)\n",
    "    \n",
    "    i.Q1 <- c(1:n.Q1)\n",
    "    labels.Q1 <- paste('QA',i.Q1,sep='_')\n",
    "    i.Q2 <- c(1:n.Q2)\n",
    "    labels.Q2 <- paste('QB',i.Q2,sep='_')\n",
    "    \n",
    "    return(c(labels.Q1,labels.Q2))\n",
    "}"
   ]
  },
  {
   "cell_type": "code",
   "execution_count": 7,
   "metadata": {},
   "outputs": [],
   "source": [
    "# plot sampled hue circles\n",
    "sample.plot <- function(Q1,Q2){\n",
    "    \n",
    "    colors <- colors(Q1,Q2)\n",
    "    points <- rbind(Q1,Q2)\n",
    "    colnames(points) <- c('V1','V2')\n",
    "    points <- data.frame(points)\n",
    "    points$labels <- labels(Q1,Q2)\n",
    "    \n",
    "    plot <-     ggplot(points, aes(x = V1, y = V2, color=colors)) + geom_point(size =10) + \n",
    "                geom_text(aes(label=labels, vjust=-2)) +\n",
    "                xlab(\"Dimension 1\") + ylab(\"Dimension 2\") + \n",
    "                ggtitle('Phenomenological Space') + theme(legend.position='none')\n",
    "    return(plot)\n",
    "}"
   ]
  },
  {
   "cell_type": "markdown",
   "metadata": {},
   "source": [
    "Let's obtain some samples"
   ]
  },
  {
   "cell_type": "code",
   "execution_count": 8,
   "metadata": {},
   "outputs": [],
   "source": [
    "Q1 <- sample.hue.circle(n.samples=n.qualia)\n",
    "Q2 <- sample.hue.circle(n.samples=n.qualia, offset=0.5)"
   ]
  },
  {
   "cell_type": "code",
   "execution_count": 9,
   "metadata": {},
   "outputs": [
    {
     "data": {
      "image/png": "[encoded data removed]",
      "text/plain": [
       "plot without title"
      ]
     },
     "metadata": {},
     "output_type": "display_data"
    }
   ],
   "source": [
    "qspace.plot <- sample.plot(Q1,Q2)\n",
    "qspace.plot"
   ]
  },
  {
   "cell_type": "markdown",
   "metadata": {},
   "source": [
    "### Generating similarity ratings"
   ]
  },
  {
   "cell_type": "markdown",
   "metadata": {},
   "source": [
    "Next, we need to calculate the similarity ratings based on the samples obtained and some metric that can provide dissimilarities based on two points in the phenomenological space. We can use various different distance functions to do this. We can also add noise to the similarity ratings at this time if we wish, to simulate noisy data from subjects under real-world conditions"
   ]
  },
  {
   "cell_type": "code",
   "execution_count": 10,
   "metadata": {},
   "outputs": [],
   "source": [
    "# Different distance functions\n",
    "d.euclidean <- function(a,b){\n",
    "    d <- sqrt( (a[1]-b[1])**2 + (a[2]-b[2])**2 )\n",
    "    return(d)\n",
    "}\n",
    "\n",
    "d.shepard <- function(a,b){\n",
    "    d.eu <- d.euclidean(a,b)\n",
    "    d.shepard <- exp.const**d.eu-1\n",
    "    return(d.shepard)\n",
    "}"
   ]
  },
  {
   "cell_type": "code",
   "execution_count": 11,
   "metadata": {},
   "outputs": [],
   "source": [
    "# Add some noise to the similarity ratings\n",
    "noise <-function(var,dr.max,type='gaussian'){\n",
    "    if(type=='gaussian'){\n",
    "        error <- rnorm(1,mean=0,sd=var) * dr.max\n",
    "    }\n",
    "    return(error)\n",
    "}"
   ]
  },
  {
   "cell_type": "code",
   "execution_count": 12,
   "metadata": {},
   "outputs": [],
   "source": [
    "# Obtain dissimilarity ratings given some metric and two qualia sets in phenomenological space\n",
    "dr <- function(n.samples,Q1,Q2,metric='d.shepard',var=0){\n",
    "    \n",
    "    method <- match.fun(metric) # select the metric of choice\n",
    "    mat <- matrix(,nrow=n.samples*2,ncol=n.samples*2)  # initialise a matrix\n",
    "    dr.max <- method(c(-1,-1),c(1,1)) # Find the maximum possible dissimilarity rating\n",
    "    \n",
    "    # populate the Q1 x Q2 matrix\n",
    "    for(i in (1:n.samples)){\n",
    "        q1 <- Q1[i,1:2]\n",
    "        for(j in (1:n.samples)){\n",
    "            q2 <- Q2[j,1:2]\n",
    "            val <- (method(q1,q2) + noise(var,dr.max=dr.max))/dr.max # not sure this is calculated correctly, where I should be applying the noise...\n",
    "            if(val > 0){ # no negative dissimilarity values. Needed to avoid noise making this negative\n",
    "                mat[i,j+n.samples] <- val\n",
    "            } else {\n",
    "                mat[i,j+n.samples] <- 0\n",
    "            }\n",
    "            mat[i,j+n.samples] \n",
    "        }\n",
    "    }\n",
    "    # transpose the results to make the bottom right comparisons\n",
    "    mat[(n.samples+1):(n.samples*2), 1:n.samples] <- t(mat[1:n.samples,(n.samples+1):(n.samples*2)])\n",
    "    \n",
    "    \n",
    "    return(mat)\n",
    "}"
   ]
  },
  {
   "cell_type": "markdown",
   "metadata": {},
   "source": [
    "Let's obtain the similarity ratings from the samples, comparing each quale in Q1 to each quale in Q2 (but not _Q1 to Q1_ or _Q2 to Q2_ )"
   ]
  },
  {
   "cell_type": "code",
   "execution_count": 13,
   "metadata": {},
   "outputs": [],
   "source": [
    "dr.matrix <- dr(n.samples=n.qualia,Q2,Q1,metric=d.shepard,var=0.25)"
   ]
  },
  {
   "cell_type": "code",
   "execution_count": 14,
   "metadata": {},
   "outputs": [
    {
     "data": {
      "text/html": [
       "<table>\n",
       "<tbody>\n",
       "\t<tr><td>        NA</td><td>       NA </td><td>       NA </td><td>       NA </td><td>       NA </td><td>0.05499165</td><td>0.0000000 </td><td>0.3479584 </td><td>0.2105733 </td><td>0.3343706 </td></tr>\n",
       "\t<tr><td>        NA</td><td>       NA </td><td>       NA </td><td>       NA </td><td>       NA </td><td>0.37126654</td><td>0.7335612 </td><td>0.2660024 </td><td>0.3613757 </td><td>1.2422322 </td></tr>\n",
       "\t<tr><td>        NA</td><td>       NA </td><td>       NA </td><td>       NA </td><td>       NA </td><td>0.64169706</td><td>0.2267494 </td><td>0.0000000 </td><td>0.0000000 </td><td>0.5828518 </td></tr>\n",
       "\t<tr><td>        NA</td><td>       NA </td><td>       NA </td><td>       NA </td><td>       NA </td><td>0.54204627</td><td>0.4830924 </td><td>0.2309554 </td><td>0.3924211 </td><td>0.2401763 </td></tr>\n",
       "\t<tr><td>        NA</td><td>       NA </td><td>       NA </td><td>       NA </td><td>       NA </td><td>0.18626825</td><td>0.4275531 </td><td>0.5702691 </td><td>0.2094523 </td><td>0.5352382 </td></tr>\n",
       "\t<tr><td>0.05499165</td><td>0.3712665 </td><td>0.6416971 </td><td>0.5420463 </td><td>0.1862682 </td><td>        NA</td><td>       NA </td><td>       NA </td><td>       NA </td><td>       NA </td></tr>\n",
       "\t<tr><td>0.00000000</td><td>0.7335612 </td><td>0.2267494 </td><td>0.4830924 </td><td>0.4275531 </td><td>        NA</td><td>       NA </td><td>       NA </td><td>       NA </td><td>       NA </td></tr>\n",
       "\t<tr><td>0.34795841</td><td>0.2660024 </td><td>0.0000000 </td><td>0.2309554 </td><td>0.5702691 </td><td>        NA</td><td>       NA </td><td>       NA </td><td>       NA </td><td>       NA </td></tr>\n",
       "\t<tr><td>0.21057333</td><td>0.3613757 </td><td>0.0000000 </td><td>0.3924211 </td><td>0.2094523 </td><td>        NA</td><td>       NA </td><td>       NA </td><td>       NA </td><td>       NA </td></tr>\n",
       "\t<tr><td>0.33437065</td><td>1.2422322 </td><td>0.5828518 </td><td>0.2401763 </td><td>0.5352382 </td><td>        NA</td><td>       NA </td><td>       NA </td><td>       NA </td><td>       NA </td></tr>\n",
       "</tbody>\n",
       "</table>\n"
      ],
      "text/latex": [
       "\\begin{tabular}{llllllllll}\n",
       "\t         NA &        NA  &        NA  &        NA  &        NA  & 0.05499165 & 0.0000000  & 0.3479584  & 0.2105733  & 0.3343706 \\\\\n",
       "\t         NA &        NA  &        NA  &        NA  &        NA  & 0.37126654 & 0.7335612  & 0.2660024  & 0.3613757  & 1.2422322 \\\\\n",
       "\t         NA &        NA  &        NA  &        NA  &        NA  & 0.64169706 & 0.2267494  & 0.0000000  & 0.0000000  & 0.5828518 \\\\\n",
       "\t         NA &        NA  &        NA  &        NA  &        NA  & 0.54204627 & 0.4830924  & 0.2309554  & 0.3924211  & 0.2401763 \\\\\n",
       "\t         NA &        NA  &        NA  &        NA  &        NA  & 0.18626825 & 0.4275531  & 0.5702691  & 0.2094523  & 0.5352382 \\\\\n",
       "\t 0.05499165 & 0.3712665  & 0.6416971  & 0.5420463  & 0.1862682  &         NA &        NA  &        NA  &        NA  &        NA \\\\\n",
       "\t 0.00000000 & 0.7335612  & 0.2267494  & 0.4830924  & 0.4275531  &         NA &        NA  &        NA  &        NA  &        NA \\\\\n",
       "\t 0.34795841 & 0.2660024  & 0.0000000  & 0.2309554  & 0.5702691  &         NA &        NA  &        NA  &        NA  &        NA \\\\\n",
       "\t 0.21057333 & 0.3613757  & 0.0000000  & 0.3924211  & 0.2094523  &         NA &        NA  &        NA  &        NA  &        NA \\\\\n",
       "\t 0.33437065 & 1.2422322  & 0.5828518  & 0.2401763  & 0.5352382  &         NA &        NA  &        NA  &        NA  &        NA \\\\\n",
       "\\end{tabular}\n"
      ],
      "text/markdown": [
       "\n",
       "|         NA |        NA  |        NA  |        NA  |        NA  | 0.05499165 | 0.0000000  | 0.3479584  | 0.2105733  | 0.3343706  |\n",
       "|         NA |        NA  |        NA  |        NA  |        NA  | 0.37126654 | 0.7335612  | 0.2660024  | 0.3613757  | 1.2422322  |\n",
       "|         NA |        NA  |        NA  |        NA  |        NA  | 0.64169706 | 0.2267494  | 0.0000000  | 0.0000000  | 0.5828518  |\n",
       "|         NA |        NA  |        NA  |        NA  |        NA  | 0.54204627 | 0.4830924  | 0.2309554  | 0.3924211  | 0.2401763  |\n",
       "|         NA |        NA  |        NA  |        NA  |        NA  | 0.18626825 | 0.4275531  | 0.5702691  | 0.2094523  | 0.5352382  |\n",
       "| 0.05499165 | 0.3712665  | 0.6416971  | 0.5420463  | 0.1862682  |         NA |        NA  |        NA  |        NA  |        NA  |\n",
       "| 0.00000000 | 0.7335612  | 0.2267494  | 0.4830924  | 0.4275531  |         NA |        NA  |        NA  |        NA  |        NA  |\n",
       "| 0.34795841 | 0.2660024  | 0.0000000  | 0.2309554  | 0.5702691  |         NA |        NA  |        NA  |        NA  |        NA  |\n",
       "| 0.21057333 | 0.3613757  | 0.0000000  | 0.3924211  | 0.2094523  |         NA |        NA  |        NA  |        NA  |        NA  |\n",
       "| 0.33437065 | 1.2422322  | 0.5828518  | 0.2401763  | 0.5352382  |         NA |        NA  |        NA  |        NA  |        NA  |\n",
       "\n"
      ],
      "text/plain": [
       "      [,1]       [,2]      [,3]      [,4]      [,5]      [,6]       [,7]     \n",
       " [1,]         NA        NA        NA        NA        NA 0.05499165 0.0000000\n",
       " [2,]         NA        NA        NA        NA        NA 0.37126654 0.7335612\n",
       " [3,]         NA        NA        NA        NA        NA 0.64169706 0.2267494\n",
       " [4,]         NA        NA        NA        NA        NA 0.54204627 0.4830924\n",
       " [5,]         NA        NA        NA        NA        NA 0.18626825 0.4275531\n",
       " [6,] 0.05499165 0.3712665 0.6416971 0.5420463 0.1862682         NA        NA\n",
       " [7,] 0.00000000 0.7335612 0.2267494 0.4830924 0.4275531         NA        NA\n",
       " [8,] 0.34795841 0.2660024 0.0000000 0.2309554 0.5702691         NA        NA\n",
       " [9,] 0.21057333 0.3613757 0.0000000 0.3924211 0.2094523         NA        NA\n",
       "[10,] 0.33437065 1.2422322 0.5828518 0.2401763 0.5352382         NA        NA\n",
       "      [,8]      [,9]      [,10]    \n",
       " [1,] 0.3479584 0.2105733 0.3343706\n",
       " [2,] 0.2660024 0.3613757 1.2422322\n",
       " [3,] 0.0000000 0.0000000 0.5828518\n",
       " [4,] 0.2309554 0.3924211 0.2401763\n",
       " [5,] 0.5702691 0.2094523 0.5352382\n",
       " [6,]        NA        NA        NA\n",
       " [7,]        NA        NA        NA\n",
       " [8,]        NA        NA        NA\n",
       " [9,]        NA        NA        NA\n",
       "[10,]        NA        NA        NA"
      ]
     },
     "metadata": {},
     "output_type": "display_data"
    }
   ],
   "source": [
    "dr.matrix"
   ]
  },
  {
   "cell_type": "code",
   "execution_count": 15,
   "metadata": {},
   "outputs": [],
   "source": [
    "# generic matrix plot stuff\n",
    "plot.mat <- function(mat, reverse=TRUE,\n",
    "                                  col1='blue',col2='orange',na.col='green',\n",
    "                                  legend.title='value',overall.title='',\n",
    "                                  xlabel='QA                                          QB',\n",
    "                                  ylabel='QA                                          QB',\n",
    "                                  low.lim=0,up.lim=dr.max*1.5){\n",
    "    \n",
    "    if(reverse){\n",
    "        mat <- mat[nrow(mat):1,]\n",
    "    }\n",
    "    longData <- melt(mat)\n",
    "    \n",
    "    plot <- ggplot(longData, aes(x = Var2, y=Var1)) + \n",
    "    geom_raster(aes(fill=value)) +\n",
    "    #scale_y_discrete(limits = rev(mat$Var1)) +\n",
    "    scale_fill_gradientn(legend.title,colours = c(col1,col2),\n",
    "                         limits = c(low.lim,up.lim), \n",
    "                         breaks=c(low.lim,0,up.lim),\n",
    "                        na.value=na.col) +\n",
    "    ggtitle(overall.title) + xlab(xlabel) + ylab(ylabel)\n",
    "\n",
    "    return(plot)\n",
    "}"
   ]
  },
  {
   "cell_type": "code",
   "execution_count": 16,
   "metadata": {},
   "outputs": [
    {
     "data": {
      "image/png": "[encoded data removed]",
      "text/plain": [
       "plot without title"
      ]
     },
     "metadata": {},
     "output_type": "display_data"
    }
   ],
   "source": [
    "plot.mat(dr.matrix,\n",
    "        xlabel = 'QA                                          QB',\n",
    "        ylabel = 'QA                                          QB')"
   ]
  },
  {
   "cell_type": "markdown",
   "metadata": {},
   "source": [
    "### Interpolate the missing data"
   ]
  },
  {
   "cell_type": "markdown",
   "metadata": {},
   "source": [
    "So far the full dissimilarity matrix is incomplete, as we have only got Q1 to Q2 comparisons, but no (Q1 to Q1) nor (Q2 to Q2). To interpolate these, we're going to try a method Nao suggested based on the correlations between the experiences.  \n",
    "  \n",
    "Specifically, we're going to assume that the dissimilarity between Q1<sub>i</sub> and Q1<sub>j</sub> is defined as the correlation of the vector comprising all the comparisons between Q1<sub>i</sub> and Q2 to the vector comprising all the comparisons between Q1<sub>j</sub> and Q2.   \n",
    "\n",
    "If the data is incomplete, we'll just use the data that we can use and hope for the best."
   ]
  },
  {
   "cell_type": "code",
   "execution_count": 17,
   "metadata": {},
   "outputs": [],
   "source": [
    "# Formula for converting correlation to dissimilarity value\n",
    "cor2dr <- function(correlation,scale){\n",
    "    return(-(correlation-1)/2*scale)\n",
    "}"
   ]
  },
  {
   "cell_type": "code",
   "execution_count": 18,
   "metadata": {},
   "outputs": [],
   "source": [
    "# Obtain which indices are not NA for both of two vectors\n",
    "check.na <- function(v1,v2){\n",
    "    input <- data.frame(v1,v2)\n",
    "    input$output <- (!(is.na(v1)) & !(is.na(v2)))\n",
    "    return(input$output)\n",
    "}"
   ]
  },
  {
   "cell_type": "code",
   "execution_count": 19,
   "metadata": {},
   "outputs": [],
   "source": [
    "# Interpolate a dissimilarity value based on the correlation between two vectors\n",
    "interpolate <- function(v1,v2,method=method,max.dr){\n",
    "    input <- data.frame(v1,v2,check.na(v1,v2))\n",
    "    #print(input)\n",
    "    clean <- subset(input, check.na.v1..v2. == TRUE)\n",
    "    #print(clean)\n",
    "    correlation <- cor(clean$v1,clean$v2,method=method)\n",
    "    return(cor2dr(correlation,scale=max.dr))\n",
    "}"
   ]
  },
  {
   "cell_type": "code",
   "execution_count": 20,
   "metadata": {},
   "outputs": [],
   "source": [
    "# Produce a new matrix with interpolated data. Choose the correlation function of choice\n",
    "interpolate.matrix <- function(matrix,method='spearman',mode='mat'){\n",
    "    output <- matrix(,nrow(matrix),ncol(matrix))\n",
    "    \n",
    "    for(i in (1:nrow(matrix))){\n",
    "        for(j in (1:ncol(matrix))){\n",
    "            if(is.na(matrix[i,j])){\n",
    "                if(mode=='mat'){\n",
    "                    v1 <- na.omit(as.vector(matrix[i,1:nrow(matrix)]))\n",
    "                    v2 <- na.omit(as.vector(matrix[j,1:nrow(matrix)]))\n",
    "                } else {\n",
    "                    v1 <- as.vector(matrix[i,1:nrow(matrix)])\n",
    "                    v2 <- as.vector(matrix[j,1:nrow(matrix)])\n",
    "                }\n",
    "                \n",
    "                \n",
    "                vals <- na.omit(c(v1,v2))\n",
    "                max.dr <- max(vals) # grab the maximum dissimilarity value for a scaling constant\n",
    "                \n",
    "                output[i,j] <- interpolate(v1,v2,method,max.dr)\n",
    "            } else {\n",
    "                output[i,j] <- matrix[i,j]\n",
    "            }\n",
    "        }\n",
    "    }\n",
    "    return(output)\n",
    "}"
   ]
  },
  {
   "cell_type": "code",
   "execution_count": 21,
   "metadata": {},
   "outputs": [],
   "source": [
    "dr.interpolated <- interpolate.matrix(dr.matrix,method='pearson')"
   ]
  },
  {
   "cell_type": "code",
   "execution_count": 22,
   "metadata": {},
   "outputs": [
    {
     "data": {
      "text/html": [
       "<table>\n",
       "<tbody>\n",
       "\t<tr><td>1.931557e-17</td><td>5.226791e-01</td><td>3.944869e-01</td><td>0.5296959   </td><td>0.1196761   </td><td>5.499165e-02</td><td>0.000000e+00</td><td>3.479584e-01</td><td>0.2105733   </td><td>0.3343706   </td></tr>\n",
       "\t<tr><td>5.226791e-01</td><td>1.379155e-16</td><td>2.905842e-01</td><td>0.8030576   </td><td>0.3475176   </td><td>3.712665e-01</td><td>7.335612e-01</td><td>2.660024e-01</td><td>0.3613757   </td><td>1.2422322   </td></tr>\n",
       "\t<tr><td>3.944869e-01</td><td>2.905842e-01</td><td>3.562134e-17</td><td>0.2299096   </td><td>0.3662613   </td><td>6.416971e-01</td><td>2.267494e-01</td><td>0.000000e+00</td><td>0.0000000   </td><td>0.5828518   </td></tr>\n",
       "\t<tr><td>5.296959e-01</td><td>8.030576e-01</td><td>2.299096e-01</td><td>0.0000000   </td><td>0.5074611   </td><td>5.420463e-01</td><td>4.830924e-01</td><td>2.309554e-01</td><td>0.3924211   </td><td>0.2401763   </td></tr>\n",
       "\t<tr><td>1.196761e-01</td><td>3.475176e-01</td><td>3.662613e-01</td><td>0.5074611   </td><td>0.0000000   </td><td>1.862682e-01</td><td>4.275531e-01</td><td>5.702691e-01</td><td>0.2094523   </td><td>0.5352382   </td></tr>\n",
       "\t<tr><td>5.499165e-02</td><td>3.712665e-01</td><td>6.416971e-01</td><td>0.5420463   </td><td>0.1862682   </td><td>3.562134e-17</td><td>2.476452e-01</td><td>5.759315e-01</td><td>0.3721874   </td><td>0.5736634   </td></tr>\n",
       "\t<tr><td>0.000000e+00</td><td>7.335612e-01</td><td>2.267494e-01</td><td>0.4830924   </td><td>0.4275531   </td><td>2.476452e-01</td><td>8.144166e-17</td><td>3.330162e-01</td><td>0.1433948   </td><td>0.2059025   </td></tr>\n",
       "\t<tr><td>3.479584e-01</td><td>2.660024e-01</td><td>0.000000e+00</td><td>0.2309554   </td><td>0.5702691   </td><td>5.759315e-01</td><td>3.330162e-01</td><td>3.165629e-17</td><td>0.1803143   </td><td>0.6656497   </td></tr>\n",
       "\t<tr><td>2.105733e-01</td><td>3.613757e-01</td><td>0.000000e+00</td><td>0.3924211   </td><td>0.2094523   </td><td>3.721874e-01</td><td>1.433948e-01</td><td>1.803143e-01</td><td>0.0000000   </td><td>0.5280424   </td></tr>\n",
       "\t<tr><td>3.343706e-01</td><td>1.242232e+00</td><td>5.828518e-01</td><td>0.2401763   </td><td>0.5352382   </td><td>5.736634e-01</td><td>2.059025e-01</td><td>6.656497e-01</td><td>0.5280424   </td><td>0.0000000   </td></tr>\n",
       "</tbody>\n",
       "</table>\n"
      ],
      "text/latex": [
       "\\begin{tabular}{llllllllll}\n",
       "\t 1.931557e-17 & 5.226791e-01 & 3.944869e-01 & 0.5296959    & 0.1196761    & 5.499165e-02 & 0.000000e+00 & 3.479584e-01 & 0.2105733    & 0.3343706   \\\\\n",
       "\t 5.226791e-01 & 1.379155e-16 & 2.905842e-01 & 0.8030576    & 0.3475176    & 3.712665e-01 & 7.335612e-01 & 2.660024e-01 & 0.3613757    & 1.2422322   \\\\\n",
       "\t 3.944869e-01 & 2.905842e-01 & 3.562134e-17 & 0.2299096    & 0.3662613    & 6.416971e-01 & 2.267494e-01 & 0.000000e+00 & 0.0000000    & 0.5828518   \\\\\n",
       "\t 5.296959e-01 & 8.030576e-01 & 2.299096e-01 & 0.0000000    & 0.5074611    & 5.420463e-01 & 4.830924e-01 & 2.309554e-01 & 0.3924211    & 0.2401763   \\\\\n",
       "\t 1.196761e-01 & 3.475176e-01 & 3.662613e-01 & 0.5074611    & 0.0000000    & 1.862682e-01 & 4.275531e-01 & 5.702691e-01 & 0.2094523    & 0.5352382   \\\\\n",
       "\t 5.499165e-02 & 3.712665e-01 & 6.416971e-01 & 0.5420463    & 0.1862682    & 3.562134e-17 & 2.476452e-01 & 5.759315e-01 & 0.3721874    & 0.5736634   \\\\\n",
       "\t 0.000000e+00 & 7.335612e-01 & 2.267494e-01 & 0.4830924    & 0.4275531    & 2.476452e-01 & 8.144166e-17 & 3.330162e-01 & 0.1433948    & 0.2059025   \\\\\n",
       "\t 3.479584e-01 & 2.660024e-01 & 0.000000e+00 & 0.2309554    & 0.5702691    & 5.759315e-01 & 3.330162e-01 & 3.165629e-17 & 0.1803143    & 0.6656497   \\\\\n",
       "\t 2.105733e-01 & 3.613757e-01 & 0.000000e+00 & 0.3924211    & 0.2094523    & 3.721874e-01 & 1.433948e-01 & 1.803143e-01 & 0.0000000    & 0.5280424   \\\\\n",
       "\t 3.343706e-01 & 1.242232e+00 & 5.828518e-01 & 0.2401763    & 0.5352382    & 5.736634e-01 & 2.059025e-01 & 6.656497e-01 & 0.5280424    & 0.0000000   \\\\\n",
       "\\end{tabular}\n"
      ],
      "text/markdown": [
       "\n",
       "| 1.931557e-17 | 5.226791e-01 | 3.944869e-01 | 0.5296959    | 0.1196761    | 5.499165e-02 | 0.000000e+00 | 3.479584e-01 | 0.2105733    | 0.3343706    |\n",
       "| 5.226791e-01 | 1.379155e-16 | 2.905842e-01 | 0.8030576    | 0.3475176    | 3.712665e-01 | 7.335612e-01 | 2.660024e-01 | 0.3613757    | 1.2422322    |\n",
       "| 3.944869e-01 | 2.905842e-01 | 3.562134e-17 | 0.2299096    | 0.3662613    | 6.416971e-01 | 2.267494e-01 | 0.000000e+00 | 0.0000000    | 0.5828518    |\n",
       "| 5.296959e-01 | 8.030576e-01 | 2.299096e-01 | 0.0000000    | 0.5074611    | 5.420463e-01 | 4.830924e-01 | 2.309554e-01 | 0.3924211    | 0.2401763    |\n",
       "| 1.196761e-01 | 3.475176e-01 | 3.662613e-01 | 0.5074611    | 0.0000000    | 1.862682e-01 | 4.275531e-01 | 5.702691e-01 | 0.2094523    | 0.5352382    |\n",
       "| 5.499165e-02 | 3.712665e-01 | 6.416971e-01 | 0.5420463    | 0.1862682    | 3.562134e-17 | 2.476452e-01 | 5.759315e-01 | 0.3721874    | 0.5736634    |\n",
       "| 0.000000e+00 | 7.335612e-01 | 2.267494e-01 | 0.4830924    | 0.4275531    | 2.476452e-01 | 8.144166e-17 | 3.330162e-01 | 0.1433948    | 0.2059025    |\n",
       "| 3.479584e-01 | 2.660024e-01 | 0.000000e+00 | 0.2309554    | 0.5702691    | 5.759315e-01 | 3.330162e-01 | 3.165629e-17 | 0.1803143    | 0.6656497    |\n",
       "| 2.105733e-01 | 3.613757e-01 | 0.000000e+00 | 0.3924211    | 0.2094523    | 3.721874e-01 | 1.433948e-01 | 1.803143e-01 | 0.0000000    | 0.5280424    |\n",
       "| 3.343706e-01 | 1.242232e+00 | 5.828518e-01 | 0.2401763    | 0.5352382    | 5.736634e-01 | 2.059025e-01 | 6.656497e-01 | 0.5280424    | 0.0000000    |\n",
       "\n"
      ],
      "text/plain": [
       "      [,1]         [,2]         [,3]         [,4]      [,5]      [,6]        \n",
       " [1,] 1.931557e-17 5.226791e-01 3.944869e-01 0.5296959 0.1196761 5.499165e-02\n",
       " [2,] 5.226791e-01 1.379155e-16 2.905842e-01 0.8030576 0.3475176 3.712665e-01\n",
       " [3,] 3.944869e-01 2.905842e-01 3.562134e-17 0.2299096 0.3662613 6.416971e-01\n",
       " [4,] 5.296959e-01 8.030576e-01 2.299096e-01 0.0000000 0.5074611 5.420463e-01\n",
       " [5,] 1.196761e-01 3.475176e-01 3.662613e-01 0.5074611 0.0000000 1.862682e-01\n",
       " [6,] 5.499165e-02 3.712665e-01 6.416971e-01 0.5420463 0.1862682 3.562134e-17\n",
       " [7,] 0.000000e+00 7.335612e-01 2.267494e-01 0.4830924 0.4275531 2.476452e-01\n",
       " [8,] 3.479584e-01 2.660024e-01 0.000000e+00 0.2309554 0.5702691 5.759315e-01\n",
       " [9,] 2.105733e-01 3.613757e-01 0.000000e+00 0.3924211 0.2094523 3.721874e-01\n",
       "[10,] 3.343706e-01 1.242232e+00 5.828518e-01 0.2401763 0.5352382 5.736634e-01\n",
       "      [,7]         [,8]         [,9]      [,10]    \n",
       " [1,] 0.000000e+00 3.479584e-01 0.2105733 0.3343706\n",
       " [2,] 7.335612e-01 2.660024e-01 0.3613757 1.2422322\n",
       " [3,] 2.267494e-01 0.000000e+00 0.0000000 0.5828518\n",
       " [4,] 4.830924e-01 2.309554e-01 0.3924211 0.2401763\n",
       " [5,] 4.275531e-01 5.702691e-01 0.2094523 0.5352382\n",
       " [6,] 2.476452e-01 5.759315e-01 0.3721874 0.5736634\n",
       " [7,] 8.144166e-17 3.330162e-01 0.1433948 0.2059025\n",
       " [8,] 3.330162e-01 3.165629e-17 0.1803143 0.6656497\n",
       " [9,] 1.433948e-01 1.803143e-01 0.0000000 0.5280424\n",
       "[10,] 2.059025e-01 6.656497e-01 0.5280424 0.0000000"
      ]
     },
     "metadata": {},
     "output_type": "display_data"
    }
   ],
   "source": [
    "dr.interpolated"
   ]
  },
  {
   "cell_type": "code",
   "execution_count": 23,
   "metadata": {},
   "outputs": [
    {
     "data": {
      "image/png": "[encoded data removed]",
      "text/plain": [
       "plot without title"
      ]
     },
     "metadata": {},
     "output_type": "display_data"
    }
   ],
   "source": [
    "plot.mat(dr.interpolated)"
   ]
  },
  {
   "cell_type": "markdown",
   "metadata": {},
   "source": [
    "### Try and reconstruct the phenomenological space"
   ]
  },
  {
   "cell_type": "markdown",
   "metadata": {},
   "source": [
    "Now that we have a full dissimilarity matrix comprised of original and interpolated data, we will try and see if we can reconstruct the phenomenological space from this matrix."
   ]
  },
  {
   "cell_type": "code",
   "execution_count": null,
   "metadata": {},
   "outputs": [],
   "source": []
  },
  {
   "cell_type": "code",
   "execution_count": 24,
   "metadata": {},
   "outputs": [],
   "source": [
    "# plot an MDS fit\n",
    "cmdsplot <- function(dr.int,k=2,var=0,Q1,Q2){\n",
    "    \n",
    "    #print(n.qualia) # testing\n",
    "    \n",
    "    #print(dr.matrix)\n",
    "    #dr.int <- interpolate.matrix(dr.matrix,method='pearson')\n",
    "    #print(dr.int) # testing\n",
    "    fit <- cmdscale(dr.int,k) # do the MDS   \n",
    "    fit <- as.data.frame(fit)\n",
    "    \n",
    "    colors <- colors(Q1,Q2)\n",
    "    labels <- labels(Q1,Q2)\n",
    "    \n",
    "    plot <-     ggplot(fit, aes(x = V1, y = V2, color=colors)) + geom_point(size =10) + \n",
    "                geom_text(aes(label=labels, vjust=-2)) +\n",
    "                xlab(\"Dimension 1\") + ylab(\"Dimension 2\") + \n",
    "                ggtitle((paste('Classical MDS - ','SD = ',var,'*','(MAX DR)',sep=''))) + \n",
    "                theme(legend.position='none')\n",
    "    \n",
    "    return(plot)\n",
    "}"
   ]
  },
  {
   "cell_type": "markdown",
   "metadata": {},
   "source": [
    "Let's see what it looks like on the full dissimilarity matrix"
   ]
  },
  {
   "cell_type": "code",
   "execution_count": 25,
   "metadata": {},
   "outputs": [
    {
     "ename": "ERROR",
     "evalue": "Error in cmdsplot(Q1, Q2, n.qualia = n.qualia, var = 0.01): unused argument (n.qualia = n.qualia)\n",
     "output_type": "error",
     "traceback": [
      "Error in cmdsplot(Q1, Q2, n.qualia = n.qualia, var = 0.01): unused argument (n.qualia = n.qualia)\nTraceback:\n"
     ]
    }
   ],
   "source": [
    "interpolate.plot <- cmdsplot(Q1,Q2,n.qualia=n.qualia,var=0.01)"
   ]
  },
  {
   "cell_type": "markdown",
   "metadata": {},
   "source": [
    "Let's compare this to the original phenomenological space"
   ]
  },
  {
   "cell_type": "code",
   "execution_count": 26,
   "metadata": {},
   "outputs": [],
   "source": [
    "# compare the phenomenological space to the cmds\n",
    "compare.plots <- function(qspace.plot,interpolate.plot){\n",
    "    grob <- arrangeGrob(qspace.plot,interpolate.plot,\n",
    "                       nrow = 1, ncol = 2)\n",
    "}"
   ]
  },
  {
   "cell_type": "code",
   "execution_count": 27,
   "metadata": {},
   "outputs": [
    {
     "ename": "ERROR",
     "evalue": "Error in arrangeGrob(qspace.plot, interpolate.plot, nrow = 1, ncol = 2): object 'interpolate.plot' not found\n",
     "output_type": "error",
     "traceback": [
      "Error in arrangeGrob(qspace.plot, interpolate.plot, nrow = 1, ncol = 2): object 'interpolate.plot' not found\nTraceback:\n",
      "1. compare.plots(qspace.plot, interpolate.plot)",
      "2. arrangeGrob(qspace.plot, interpolate.plot, nrow = 1, ncol = 2)   # at line 3-4 of file <text>"
     ]
    }
   ],
   "source": [
    "compare <- compare.plots(qspace.plot, interpolate.plot)\n",
    "grid.arrange(compare)"
   ]
  },
  {
   "cell_type": "markdown",
   "metadata": {},
   "source": [
    "### Putting everything together in one go"
   ]
  },
  {
   "cell_type": "code",
   "execution_count": 46,
   "metadata": {},
   "outputs": [],
   "source": [
    "test <- function(n=9,var=0){\n",
    "    Q1 <- sample.hue.circle(n.samples=n)\n",
    "    Q2 <- sample.hue.circle(n.samples=n, offset=0.5)\n",
    "    qspace.plot <- sample.plot(Q1,Q2)\n",
    "    interpolate.plot <- cmdsplot(Q1,Q2,n.qualia=n,k=2,var=var)\n",
    "    compare <- compare.plots(qspace.plot, interpolate.plot)\n",
    "    grid.arrange(compare)\n",
    "}\n"
   ]
  },
  {
   "cell_type": "code",
   "execution_count": 47,
   "metadata": {},
   "outputs": [],
   "source": [
    "#test(8,var=0.5)"
   ]
  },
  {
   "cell_type": "code",
   "execution_count": 180,
   "metadata": {},
   "outputs": [],
   "source": [
    "# make a demonstration plot\n",
    "demo.plot <- function(){\n",
    "    \n",
    "    stim.list <- c(3,4,8,12)\n",
    "    noise.list <- c(0.01,0.05,0.1)\n",
    "\n",
    "    \n",
    "    k = 1 # counter\n",
    "    plot_list <- list() # list to store the plots in as we're making them\n",
    "    \n",
    "    for(stim in stim.list){\n",
    "        print(k) # testing\n",
    "        Q1 <- sample.hue.circle(n.samples=stim)\n",
    "        Q2 <- sample.hue.circle(n.samples=stim, offset=0.5)\n",
    "        qspace.plot <- sample.plot(Q1,Q2)\n",
    "        plot_list[[k]] <- as.grob(qspace.plot)\n",
    "        k = k + 1   \n",
    "                      \n",
    "        for(noise in noise.list){\n",
    "            dr.matrix <- dr(n.samples=stim,Q2,Q1,metric=d.shepard,var=noise)\n",
    "            plot_list[[k]] <- as.grob(plot.mat(dr.matrix,overall.title='Original Data'))\n",
    "            k = k + 1\n",
    "            \n",
    "            dr.int <- interpolate.matrix(dr.matrix)\n",
    "            #print(dr.int)\n",
    "            plot_list[[k]] <- as.grob(plot.mat(dr.int,overall.title='Interpolated'))\n",
    "            k = k+1\n",
    "            \n",
    "            interpolate.plot <- cmdsplot(dr.int,var=noise,Q1=Q1,Q2=Q2)\n",
    "            plot_list[[k]] <- as.grob(interpolate.plot)\n",
    "            k = k+1\n",
    "        }        \n",
    "    }\n",
    "    g <- arrangeGrob(grobs = plot_list, ncol = length(noise.list)*3+1, nrow = length(stim.list))\n",
    "    ggsave('Demo.png',g,height=25,width=49)\n",
    "}"
   ]
  },
  {
   "cell_type": "code",
   "execution_count": 329,
   "metadata": {},
   "outputs": [
    {
     "name": "stdout",
     "output_type": "stream",
     "text": [
      "[1] 1\n",
      "[1] 11\n",
      "[1] 21\n",
      "[1] 31\n"
     ]
    }
   ],
   "source": [
    "demo.plot()"
   ]
  },
  {
   "cell_type": "markdown",
   "metadata": {},
   "source": [
    "#### Interpolation stuff for Nao's DP Grant"
   ]
  },
  {
   "cell_type": "code",
   "execution_count": 28,
   "metadata": {},
   "outputs": [],
   "source": [
    "weird.mat <- as.matrix(read.table(\"928731678.Rdata\"))"
   ]
  },
  {
   "cell_type": "code",
   "execution_count": 29,
   "metadata": {},
   "outputs": [
    {
     "data": {
      "image/png": "[encoded data removed]",
      "text/plain": [
       "plot without title"
      ]
     },
     "metadata": {},
     "output_type": "display_data"
    }
   ],
   "source": [
    "plot.mat(weird.mat,low.lim=0,up.lim=7,\n",
    "        xlabel = 'Foveal              Peripheral',\n",
    "        ylabel = 'Foveal              Peripheral')"
   ]
  },
  {
   "cell_type": "code",
   "execution_count": 30,
   "metadata": {},
   "outputs": [],
   "source": [
    "# make an expanded matrix from a smaller one\n",
    "expand.mat <- function(mat){\n",
    "    out.mat <- matrix(,nrow(mat)*2,ncol(mat)*2)\n",
    "    n.row <- nrow(mat)\n",
    "    n.col <- ncol(mat)\n",
    "    n.col.1 <- n.col+1\n",
    "    n.col_2 <- n.col*2\n",
    "\n",
    "    out.mat[ 1 : nrow(mat) , n.col.1 : n.col_2 ] <- mat\n",
    "    out.mat[ (nrow(mat)+1):(nrow(mat)*2) , 1:ncol(mat) ] <- mat\n",
    "    return(out.mat)\n",
    "}"
   ]
  },
  {
   "cell_type": "code",
   "execution_count": 31,
   "metadata": {},
   "outputs": [],
   "source": [
    "duplicate.mat <- expand.mat(weird.mat)"
   ]
  },
  {
   "cell_type": "code",
   "execution_count": 32,
   "metadata": {},
   "outputs": [
    {
     "data": {
      "image/png": "[encoded data removed]",
      "text/plain": [
       "plot without title"
      ]
     },
     "metadata": {},
     "output_type": "display_data"
    }
   ],
   "source": [
    "plot.mat(duplicate.mat,low.lim=0,up.lim=7,\n",
    "        xlabel = 'Foveal              Peripheral                 Foveal           Peripheral',\n",
    "        ylabel = 'Foveal              Peripheral                 Foveal           Peripheral')"
   ]
  },
  {
   "cell_type": "code",
   "execution_count": 33,
   "metadata": {},
   "outputs": [
    {
     "data": {
      "text/html": [
       "7"
      ],
      "text/latex": [
       "7"
      ],
      "text/markdown": [
       "7"
      ],
      "text/plain": [
       "[1] 7"
      ]
     },
     "metadata": {},
     "output_type": "display_data"
    },
    {
     "data": {
      "text/html": [
       "6.02201842243012"
      ],
      "text/latex": [
       "6.02201842243012"
      ],
      "text/markdown": [
       "6.02201842243012"
      ],
      "text/plain": [
       "[1] 6.022018"
      ]
     },
     "metadata": {},
     "output_type": "display_data"
    }
   ],
   "source": [
    "v1 <- c(1,4,7,NA,NA,NA)\n",
    "v2 <- c(7,3,4,NA,NA,NA)\n",
    "max(na.omit(c(v1,v2)))\n",
    "interpolate(v1,v2,'pearson',7)"
   ]
  },
  {
   "cell_type": "code",
   "execution_count": 57,
   "metadata": {},
   "outputs": [],
   "source": [
    "\n",
    "weird.int <- interpolate.matrix(duplicate.mat,method='pearson',mode='mat')"
   ]
  },
  {
   "cell_type": "code",
   "execution_count": 58,
   "metadata": {},
   "outputs": [
    {
     "data": {
      "image/png": "[encoded data removed]",
      "text/plain": [
       "plot without title"
      ]
     },
     "metadata": {},
     "output_type": "display_data"
    }
   ],
   "source": [
    "\n",
    "plot.mat(weird.int,low.lim=0,up.lim=7,\n",
    "        xlabel = 'Foveal              Peripheral                 Foveal           Peripheral',\n",
    "        ylabel = 'Foveal              Peripheral                 Foveal           Peripheral')"
   ]
  },
  {
   "cell_type": "code",
   "execution_count": 37,
   "metadata": {},
   "outputs": [],
   "source": [
    "fit <- cmdscale(weird.int,2)\n",
    "fit <- as.data.frame(fit)\n"
   ]
  },
  {
   "cell_type": "code",
   "execution_count": 64,
   "metadata": {},
   "outputs": [],
   "source": [
    "colors <- c(rep('#FFFFB3',9),rep('\"#BEBADA',9),rep('#FFFFB3',9),rep('\"#BEBADA',9))\n",
    "rainbow <- c('#FF0000','#FFAA00','#AAFF00','#00FF00','#00FFA9',\"#00A9FF\",'#0000FF','#AA00FF',\"#FF00AA\")\n",
    "colors2 <- c('#FF0000','#FFAA00','#AAFF00','#00FF00','#00FFA9',\"#00A9FF\",'#0000FF','#AA00FF',\"#FF00AA\",'#990000','#99AA00','#669900','#009900','#009965',\"#006599\",'#000099','#660099',\"#990066\")\n",
    "colors3 <- c(colors2,colors2)\n",
    "colors4 <- c(rainbow,rep('#000000',9))\n",
    "colors6 <- c(rep(\"#000000\",9),rainbow)\n",
    "colors7 <- c(colors6,colors6)\n",
    "#colors\n",
    "colors5 <- c(colors4,colors4)\n",
    "#colors5\n",
    "colors8 <- c(rainbow,rainbow,rainbow,rainbow)\n",
    "tags <- c(rep('Central',9),rep('Peripheral',9),rep('Central',9),rep('Peripheral',9))"
   ]
  },
  {
   "cell_type": "code",
   "execution_count": 68,
   "metadata": {},
   "outputs": [
    {
     "data": {
      "image/png": "[encoded data removed]",
      "text/plain": [
       "plot without title"
      ]
     },
     "metadata": {},
     "output_type": "display_data"
    }
   ],
   "source": [
    "plot <-     ggplot(fit, aes(x = V1, y = V2, color=colors8)) + geom_point(size =10) + \n",
    "                geom_text(aes(label=tags, vjust=-2)) +\n",
    "                xlab(\"Dimension 1\") + ylab(\"Dimension 2\") + \n",
    "                ggtitle('Classical MDS') + \n",
    "                theme(legend.position='none')\n",
    "plot"
   ]
  },
  {
   "cell_type": "markdown",
   "metadata": {},
   "source": [
    "### Testing Rank Structure Stuff"
   ]
  },
  {
   "cell_type": "markdown",
   "metadata": {},
   "source": [
    "Shouldn't be copy-pasting code, fix this please"
   ]
  },
  {
   "cell_type": "code",
   "execution_count": 219,
   "metadata": {},
   "outputs": [],
   "source": [
    "# test for rank order violation given two values\n",
    "rank.obtain <- function(vals,invert=FALSE){\n",
    "    if(vals[1] < vals[2]){ # d(x,y) < d(y,z)\n",
    "        rank = -1\n",
    "    } else if (vals[1] == vals[2]){ # d(x,y) = d(y,z)\n",
    "        rank = 0\n",
    "    } else if (vals[1] > vals[2]){ # d(x,y) > d(y,z)\n",
    "        rank = 1\n",
    "    }\n",
    "    if(invert){\n",
    "        return(-rank)\n",
    "    }\n",
    "    return(rank)\n",
    "}"
   ]
  },
  {
   "cell_type": "code",
   "execution_count": 220,
   "metadata": {},
   "outputs": [],
   "source": [
    "# obtain a set of rank-order matrices within-subject\n",
    "rank.mat.obtain <- function(mat){\n",
    "    n.stim <- nrow(mat)\n",
    "    mat.list <- list()\n",
    "    for(i in 1:(n.stim)){ # y = i\n",
    "        rank.mat <- matrix(,nrow(mat),ncol(mat))\n",
    "        for(j in 1:(n.stim)){ # x = j\n",
    "            for(k in 1:(n.stim)){ # z = k                \n",
    "                d.xy <- mat[j,i]\n",
    "                d.yz <- mat[i,k]\n",
    "                vals <- c(d.xy, d.yz)\n",
    "                if( (j==i) | (k==i) ){\n",
    "                    rank <- NA\n",
    "                } else {\n",
    "                    rank <- rank.obtain(vals)\n",
    "                }\n",
    "                rank.mat[j,k] <- rank # y = i, place value in a x * z matrix\n",
    "            }\n",
    "        }\n",
    "        mat.list[[i]] <- rank.mat # y = i, full x * z matrix\n",
    "    }\n",
    "    return(mat.list)\n",
    "}"
   ]
  },
  {
   "cell_type": "code",
   "execution_count": 221,
   "metadata": {},
   "outputs": [],
   "source": [
    "# generic matrix plot stuff\n",
    "plot.rank.mat.generic <- function(mat){\n",
    "    \n",
    "    longData <- melt(mat)\n",
    "    \n",
    "    plot <- ggplot(longData, aes(x = Var2, y=Var1)) + \n",
    "    geom_raster(aes(fill=value)) +\n",
    "    scale_fill_gradientn(colours = c('blue','yellow'),\n",
    "                         limits = c(-1,1), \n",
    "                         breaks=c(-1,0,1),\n",
    "                        na.value='green')\n",
    "\n",
    "    return(plot)\n",
    "}"
   ]
  },
  {
   "cell_type": "code",
   "execution_count": 222,
   "metadata": {},
   "outputs": [],
   "source": [
    "# plot a set of rank-order matrices\n",
    "rank.mat.plot.set <- function(mat.list){\n",
    "    k = 1 # counter\n",
    "    plot_list <- list()\n",
    "    \n",
    "    for(mat in mat.list){\n",
    "        graph <- plot.rank.mat.generic(mat)\n",
    "        plot_list[[k]] <- as.grob(graph)\n",
    "        k = k + 1\n",
    "    }\n",
    "    g <- arrangeGrob(grobs = plot_list, ncol = 9, nrow = 2)\n",
    "    ggsave('rank_mat_plots_demo.png',g,height=8,width=39)\n",
    "}"
   ]
  },
  {
   "cell_type": "code",
   "execution_count": 256,
   "metadata": {},
   "outputs": [],
   "source": [
    "# take a set of rank matrices, flatten into one giant matrix\n",
    "flatten <- function(mat.list){\n",
    "    n.mats <- length(mat.list)\n",
    "    x <- sqrt(n.mats)\n",
    "    n.elements <- n.mats*n.mats\n",
    "    flat.mat <- matrix(,n.mats*ceiling(x),n.mats*floor(x))  \n",
    "   \n",
    "    count = 1\n",
    "    \n",
    "    for(i in 1:ceiling(x)){\n",
    "        for(j in 1:floor(x)){\n",
    "\n",
    "            if(count <= length(mat.list)){\n",
    "                flat.mat[((i*n.mats)-(n.mats-1)):((i*n.mats)) , ((j*n.mats)-(n.mats-1)):((j*n.mats))] <- mat.list[[count]]\n",
    "                count = count + 1\n",
    "            }\n",
    "            \n",
    "        }\n",
    "    }\n",
    "    \n",
    "    return(flat.mat)\n",
    "}"
   ]
  },
  {
   "cell_type": "code",
   "execution_count": 257,
   "metadata": {},
   "outputs": [
    {
     "data": {
      "image/png": "[encoded data removed]",
      "text/plain": [
       "plot without title"
      ]
     },
     "metadata": {},
     "output_type": "display_data"
    }
   ],
   "source": [
    "# testing stuff\n",
    "testmat <- rank.mat.obtain(dr.interpolated)\n",
    "#rank.mat.plot.set(testmat)\n",
    "flat <- flatten(testmat)\n",
    "plot.rank.mat.generic(flat)"
   ]
  },
  {
   "cell_type": "code",
   "execution_count": 253,
   "metadata": {},
   "outputs": [],
   "source": [
    "# get a list of the flattened matrices for each subject\n",
    "bs.flat.list <- function(n,var,comparison='CC',n.qualia=n.qualia){\n",
    "    output <- list()\n",
    "    k = 1\n",
    "    for(ID in 1:n){\n",
    "        \n",
    "        dr.matrix <- dr(n.samples=n.qualia,Q2,Q1,metric=d.shepard,var=var)\n",
    "        dr.int <- interpolate.matrix(dr.matrix,method='pearson')\n",
    "        \n",
    "        rankmat <- rank.mat.obtain(dr.int)\n",
    "        flatmat <- flatten(rankmat)\n",
    "        #print(flatmat[1:10,1:10]) # testing\n",
    "        output[[k]] <- flatmat\n",
    "        k = k+1\n",
    "    }\n",
    "    return(output)\n",
    "}"
   ]
  },
  {
   "cell_type": "code",
   "execution_count": 169,
   "metadata": {},
   "outputs": [],
   "source": [
    "# check whether cell values in a list of flattened matrices are statistically non-zero\n",
    "flat.zero.test <- function(flat.list, mu = 0, threshold = 0.05, test.mat=FALSE){\n",
    "    count.non.zero = 0\n",
    "    count.cells = 0\n",
    "    output.vec <- vector()\n",
    "    for (i in 1:length(flat.list[[1]])){ # all the cells\n",
    "        cell.vals <- vector()\n",
    "        for (j in 1:length(flat.list)){ # all the matrices\n",
    "            cell.vals <- c(cell.vals,flat.list[[j]][i])\n",
    "        }\n",
    "        if(!all(is.na(cell.vals))){\n",
    "            count.cells = count.cells + 1\n",
    "            test <- wilcox.test(cell.vals, mu = 0, alternative = \"two.sided\",exact=FALSE)\n",
    "            non.zero <- (test$p.value < threshold)\n",
    "            if(is.na(non.zero)){ # is this appropriate? Do we count the main diagonal?\n",
    "                non.zero <- FALSE\n",
    "            }\n",
    "            if(non.zero){\n",
    "                count.non.zero = count.non.zero + 1\n",
    "            }\n",
    "            if(test.mat){\n",
    "                output.vec <- c(output.vec,non.zero)\n",
    "            }\n",
    "        } else {\n",
    "            output.vec <- c(output.vec,NA)\n",
    "        }\n",
    "        \n",
    "    }\n",
    "    if(test.mat){\n",
    "        output.mat <- matrix(output.vec,nrow(flat.list[[1]]),ncol(flat.list[[1]]))\n",
    "        return(output.mat)\n",
    "    }\n",
    "    return(count.non.zero/count.cells)\n",
    "}"
   ]
  },
  {
   "cell_type": "code",
   "execution_count": 182,
   "metadata": {},
   "outputs": [],
   "source": [
    "# plot a group of flat matrices\n",
    "flat.group.plot <- function(n,n.qualia,var){\n",
    "    subject.list <- bs.flat.list(n=n,var=var,comparison='BLAH',n.qualia=n.qualia)\n",
    "    k = 1 # counter\n",
    "    plot_list <- list()\n",
    "    for(subject in 1:length(subject.list)){\n",
    "        graph <- plot.rank.mat.generic(subject.list[[subject]])\n",
    "        plot_list[[k]] <- as.grob(graph)\n",
    "        k = k + 1\n",
    "    }\n",
    "    # add a group average plot\n",
    "    group.average <- Reduce('+',subject.list)/length(subject.list)\n",
    "    group.average.plot <- plot.rank.mat.generic(group.average)\n",
    "    plot_list[[k]] <- as.grob(group.average.plot)\n",
    "    k = k + 1\n",
    "    \n",
    "    # add a proportion plot\n",
    "    non.zero.pr <- flat.zero.test(subject.list)\n",
    "    plot_list[[k]] <- as.grob(proportion(non.zero.pr))\n",
    "    \n",
    "    label <- paste(\"Qualia - \",n.qualia,\"Noise SD - \",var)\n",
    "    title <- textGrob(label, gp=gpar(fontsize=35))\n",
    "    x <- round(sqrt(k)) + 1\n",
    "    g <- arrangeGrob(grobs = plot_list, ncol = x, nrow=x, top=title)\n",
    "    ggsave(paste(label,'.png'),\n",
    "           g,height=x*4,width=x*4)\n",
    "}"
   ]
  },
  {
   "cell_type": "code",
   "execution_count": 178,
   "metadata": {},
   "outputs": [],
   "source": [
    "# proportion plot\n",
    "proportion <- function(pr){\n",
    "    prop <- 100*pr\n",
    "    non.prop <- 100-prop\n",
    "    vec <- c(prop,non.prop)\n",
    "    #labels <- c('Non-zero','Zero')\n",
    "    labels <- c(paste('Non-zero:',round(prop,1)),paste('Zero: ',round(non.prop,1)))\n",
    "    df <- data.frame(\n",
    "        group = labels, value = c(prop,non.prop))\n",
    "    plot <- ggplot(df, aes(x=\"\", y=value, fill=group)) + geom_bar(width=1, stat= 'identity') +\n",
    "        xlab(\"\") + ylab(\"Proportion Non-zero (nonparametric, p < 0.05)\")\n",
    "    return(plot)\n",
    "}"
   ]
  },
  {
   "cell_type": "code",
   "execution_count": 258,
   "metadata": {},
   "outputs": [
    {
     "ename": "ERROR",
     "evalue": "Error in Q2[j, 1:2]: subscript out of bounds\n",
     "output_type": "error",
     "traceback": [
      "Error in Q2[j, 1:2]: subscript out of bounds\nTraceback:\n",
      "1. flat.group.plot(n = 10, var = 0.25, n.qualia = 16)",
      "2. bs.flat.list(n = n, var = var, comparison = \"BLAH\", n.qualia = n.qualia)   # at line 3 of file <text>",
      "3. dr(n.samples = n.qualia, Q2, Q1, metric = d.shepard, var = var)   # at line 7 of file <text>"
     ]
    }
   ],
   "source": [
    "flat.group.plot(n=10,var=0.25,n.qualia=16)"
   ]
  },
  {
   "cell_type": "code",
   "execution_count": null,
   "metadata": {},
   "outputs": [],
   "source": []
  }
 ],
 "metadata": {
  "kernelspec": {
   "display_name": "R",
   "language": "R",
   "name": "ir"
  },
  "language_info": {
   "codemirror_mode": "r",
   "file_extension": ".r",
   "mimetype": "text/x-r-source",
   "name": "R",
   "pygments_lexer": "r",
   "version": "3.6.1"
  }
 },
 "nbformat": 4,
 "nbformat_minor": 4
}
